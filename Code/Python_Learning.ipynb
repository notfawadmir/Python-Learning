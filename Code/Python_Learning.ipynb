{
  "cells": [
    {
      "cell_type": "markdown",
      "metadata": {
        "id": "sC65fsSJ-DXS"
      },
      "source": [
        "# **Python learning**"
      ]
    },
    {
      "cell_type": "markdown",
      "metadata": {
        "id": "E129vP6V-Ify"
      },
      "source": [
        "## **Session No. 1**\n",
        "\n"
      ]
    },
    {
      "cell_type": "code",
      "execution_count": null,
      "metadata": {
        "colab": {
          "base_uri": "https://localhost:8080/"
        },
        "id": "Wd1N4FzpuHnU",
        "outputId": "cd847fe0-e973-4b84-e5a5-f6ceebc793a1"
      },
      "outputs": [
        {
          "name": "stdout",
          "output_type": "stream",
          "text": [
            "Hello World\n"
          ]
        }
      ],
      "source": [
        "print(\"Hello World\")"
      ]
    },
    {
      "cell_type": "code",
      "execution_count": null,
      "metadata": {
        "colab": {
          "base_uri": "https://localhost:8080/"
        },
        "id": "btIBr2di53ha",
        "outputId": "7229b009-2f84-433e-d1b9-7167b4c3c746"
      },
      "outputs": [
        {
          "name": "stdout",
          "output_type": "stream",
          "text": [
            "1 2 3 4 5\n"
          ]
        }
      ],
      "source": [
        "print(1,2,3,4,5)"
      ]
    },
    {
      "cell_type": "code",
      "execution_count": null,
      "metadata": {
        "colab": {
          "base_uri": "https://localhost:8080/"
        },
        "id": "s8oBzfLB55dh",
        "outputId": "8f41afc8-54fa-408b-f282-46ed72f2eb08"
      },
      "outputs": [
        {
          "name": "stdout",
          "output_type": "stream",
          "text": [
            "True\n"
          ]
        }
      ],
      "source": [
        "print(True)"
      ]
    },
    {
      "cell_type": "code",
      "execution_count": null,
      "metadata": {
        "colab": {
          "base_uri": "https://localhost:8080/"
        },
        "id": "Y4TcCeLr6A8X",
        "outputId": "22c213aa-9388-48dc-ffc8-2c6043460d89"
      },
      "outputs": [
        {
          "name": "stdout",
          "output_type": "stream",
          "text": [
            "[1, 2, 3, 4, 5, 'hello', 'fawad']\n"
          ]
        }
      ],
      "source": [
        "print([1,2,3,4,5,\"hello\",\"fawad\"])"
      ]
    },
    {
      "cell_type": "code",
      "execution_count": null,
      "metadata": {
        "colab": {
          "base_uri": "https://localhost:8080/"
        },
        "id": "j3VmNmCO6GGk",
        "outputId": "89edb58d-4dd9-40f5-f696-70d1a31a3035"
      },
      "outputs": [
        {
          "name": "stdout",
          "output_type": "stream",
          "text": [
            "1 <class 'int'>\n",
            "True <class 'bool'>\n",
            "hello world <class 'str'>\n",
            "(1, 2, 3, 4, 5, 'hello') <class 'tuple'>\n",
            "{1, 2, 3, 4, 5, 'hello'} <class 'set'>\n",
            "[1, 2, 3, 5, 'Fawad', False] <class 'list'>\n",
            "(1+2j) <class 'complex'>\n",
            "1.56 <class 'float'>\n",
            "None <class 'NoneType'>\n"
          ]
        }
      ],
      "source": [
        "a=1\n",
        "b=True\n",
        "c=\"hello world\"\n",
        "d=(1,2,3,4,5,\"hello\")\n",
        "e={1,2,3,4,5,\"hello\"}\n",
        "f=[1,2,3,5,\"Fawad\",False]\n",
        "g=complex(1,2)\n",
        "h=1.56\n",
        "i=None\n",
        "\n",
        "print(a,type(a))\n",
        "print(b,type(b))\n",
        "print(c,type(c))\n",
        "print(d,type(d))\n",
        "print(e,type(e))\n",
        "print(f,type(f))\n",
        "print(g,type(g))\n",
        "print(h,type(h))\n",
        "print(i,type(i))"
      ]
    },
    {
      "cell_type": "markdown",
      "metadata": {
        "id": "s3MoPOltI4OC"
      },
      "source": [
        "### **TASK NO. 1**"
      ]
    },
    {
      "cell_type": "markdown",
      "metadata": {
        "id": "QdtFbPQR929x"
      },
      "source": [
        "### **Calculator**\n",
        "\n",
        "\n",
        "\n"
      ]
    },
    {
      "cell_type": "code",
      "execution_count": null,
      "metadata": {
        "colab": {
          "base_uri": "https://localhost:8080/"
        },
        "id": "Hc7EOJAL9Cdp",
        "outputId": "91ad42f4-3d6d-42c5-ec4e-6be3e9f6d775"
      },
      "outputs": [
        {
          "name": "stdout",
          "output_type": "stream",
          "text": [
            "Enter First Number : 6\n",
            "Enter Second Number : 5\n",
            "\n",
            "Addition 11\n",
            "Subtraction 1\n",
            "Multiplication 30\n",
            "Division 1.2\n",
            "\n",
            "Power Of Number is : 6\n",
            "Exponent 7776\n"
          ]
        }
      ],
      "source": [
        "a=int(input(\"Enter First Number : \"))\n",
        "b=int(input(\"Enter Second Number : \"))\n",
        "\n",
        "\n",
        "print(\"\\nAddition\",a+b)\n",
        "print(\"Subtraction\",a-b)\n",
        "print(\"Multiplication\",a*b)\n",
        "print(\"Division\",a/b)\n",
        "power=input(\"\\nPower Of Number is : \")\n",
        "print(\"Exponent\",a**b)\n"
      ]
    },
    {
      "cell_type": "markdown",
      "metadata": {
        "id": "f6sMuaxQAlql"
      },
      "source": [
        "## **Session NO. 2**\n",
        "\n"
      ]
    },
    {
      "cell_type": "markdown",
      "metadata": {
        "id": "rLAwF8EoA4pn"
      },
      "source": [
        "### Type Casting"
      ]
    },
    {
      "cell_type": "code",
      "execution_count": null,
      "metadata": {
        "colab": {
          "base_uri": "https://localhost:8080/"
        },
        "id": "wRiKBx1G-xhu",
        "outputId": "636a3c68-f59e-4292-cea2-9cd83a1bde8b"
      },
      "outputs": [
        {
          "name": "stdout",
          "output_type": "stream",
          "text": [
            "45\n"
          ]
        }
      ],
      "source": [
        "a=\"4\"\n",
        "b=\"5\"\n",
        "print(a+b)"
      ]
    },
    {
      "cell_type": "code",
      "execution_count": null,
      "metadata": {
        "colab": {
          "base_uri": "https://localhost:8080/"
        },
        "id": "5K_8a6tACvH-",
        "outputId": "2fc75d23-20cd-44e5-f5b3-d9d36633633e"
      },
      "outputs": [
        {
          "name": "stdout",
          "output_type": "stream",
          "text": [
            "9\n"
          ]
        }
      ],
      "source": [
        "# print(int(a)+int(b))\n",
        "c=int(a)+int(b)\n",
        "print(c)"
      ]
    },
    {
      "cell_type": "code",
      "execution_count": null,
      "metadata": {
        "colab": {
          "base_uri": "https://localhost:8080/"
        },
        "id": "StKLm9q0C0Jj",
        "outputId": "11768efc-5537-40f5-8eb9-34971df0317b"
      },
      "outputs": [
        {
          "name": "stdout",
          "output_type": "stream",
          "text": [
            "Sum of A and B is : 9.0\n"
          ]
        }
      ],
      "source": [
        "sum=float(a)+int(b)\n",
        "print(\"Sum of A and B is :\",sum)"
      ]
    },
    {
      "cell_type": "code",
      "execution_count": null,
      "metadata": {
        "colab": {
          "base_uri": "https://localhost:8080/"
        },
        "id": "3fOjamh8DDHI",
        "outputId": "ef867c37-cec3-47f5-ade1-cd99e9532b79"
      },
      "outputs": [
        {
          "name": "stdout",
          "output_type": "stream",
          "text": [
            "Sum :  11.5 <class 'float'>\n"
          ]
        }
      ],
      "source": [
        "a=4.5\n",
        "b=7\n",
        "sum=a+b\n",
        "print(\"Sum : \",sum, type(sum))"
      ]
    },
    {
      "cell_type": "markdown",
      "metadata": {
        "id": "Ltg7N2JlECL3"
      },
      "source": [
        "### Taking Input"
      ]
    },
    {
      "cell_type": "code",
      "execution_count": null,
      "metadata": {
        "colab": {
          "base_uri": "https://localhost:8080/"
        },
        "id": "5QXBN9sYDl5n",
        "outputId": "f5eb2119-e4a4-4704-ef1b-befb6429728e"
      },
      "outputs": [
        {
          "name": "stdout",
          "output_type": "stream",
          "text": [
            "Name : Fawad\n"
          ]
        }
      ],
      "source": [
        "A = input(\"Name : \")"
      ]
    },
    {
      "cell_type": "code",
      "execution_count": null,
      "metadata": {
        "colab": {
          "base_uri": "https://localhost:8080/"
        },
        "id": "qBG_KSAdEOYc",
        "outputId": "689382f4-1eb6-4d47-e507-3470f0e586d7"
      },
      "outputs": [
        {
          "name": "stdout",
          "output_type": "stream",
          "text": [
            "Hello Zain\n"
          ]
        }
      ],
      "source": [
        "name=\"Zain\"\n",
        "friend=\"Faiz\"\n",
        "other_friend=\"guddu\"\n",
        "print(\"Hello \"+ name)\n",
        "# print(\"Hello \", name)\n"
      ]
    },
    {
      "cell_type": "code",
      "execution_count": null,
      "metadata": {
        "id": "OvShkCGWFNdt"
      },
      "outputs": [],
      "source": [
        "# coding=\"I Love Coding ,\" DO you as well\"\n",
        "# print(coding)    this code will give error"
      ]
    },
    {
      "cell_type": "code",
      "execution_count": null,
      "metadata": {
        "colab": {
          "base_uri": "https://localhost:8080/"
        },
        "id": "u48K-UOdGRtB",
        "outputId": "11487e99-143d-47d9-b895-29ae6f883e6d"
      },
      "outputs": [
        {
          "name": "stdout",
          "output_type": "stream",
          "text": [
            "He said , \" Do You Love Coding ? \"\n"
          ]
        }
      ],
      "source": [
        "coding = \"He said , \\\" Do You Love Coding ? \\\"\"\n",
        "print(coding)"
      ]
    },
    {
      "cell_type": "code",
      "execution_count": null,
      "metadata": {
        "colab": {
          "base_uri": "https://localhost:8080/"
        },
        "id": "mA1WXb1LGlVB",
        "outputId": "85e751a7-42e2-43cc-b619-6b24708b17b9"
      },
      "outputs": [
        {
          "name": "stdout",
          "output_type": "stream",
          "text": [
            "z\n",
            "a\n",
            "i\n",
            "n\n",
            " \n",
            "z\n",
            "a\n",
            "i\n",
            "n\n",
            "u\n"
          ]
        }
      ],
      "source": [
        "name=\"zain zainu\"\n",
        "print(name[0])\n",
        "print(name[1])\n",
        "print(name[2])\n",
        "print(name[3])\n",
        "print(name[4])\n",
        "print(name[5])\n",
        "print(name[6])\n",
        "print(name[7])\n",
        "print(name[8])\n",
        "print(name[9])"
      ]
    },
    {
      "cell_type": "code",
      "execution_count": null,
      "metadata": {
        "colab": {
          "base_uri": "https://localhost:8080/"
        },
        "id": "kEUU9tFwIDQm",
        "outputId": "dcf58116-592b-4896-d2db-23ca637ee591"
      },
      "outputs": [
        {
          "name": "stdout",
          "output_type": "stream",
          "text": [
            " \n",
            "F\n",
            "a\n",
            "w\n",
            "a\n",
            "d\n",
            " \n"
          ]
        }
      ],
      "source": [
        "name= \" Fawad \"\n",
        "for characters in name:\n",
        "  print(characters)"
      ]
    },
    {
      "cell_type": "code",
      "execution_count": null,
      "metadata": {
        "colab": {
          "base_uri": "https://localhost:8080/"
        },
        "id": "sLsz0yTuNdks",
        "outputId": "5a13ea87-100d-44ad-806b-b5d0d75d5293"
      },
      "outputs": [
        {
          "name": "stdout",
          "output_type": "stream",
          "text": [
            "15\n"
          ]
        }
      ],
      "source": [
        "name = \"Aslam Ejaz Rana\"\n",
        "length_of_text=len(name)\n",
        "print(length_of_text)"
      ]
    },
    {
      "cell_type": "markdown",
      "metadata": {
        "id": "XYJVmmZ_M6DT"
      },
      "source": [
        "### **String Slicing**"
      ]
    },
    {
      "cell_type": "markdown",
      "metadata": {
        "id": "-31cWO22OK7g"
      },
      "source": [
        "**Positive Slicing**"
      ]
    },
    {
      "cell_type": "code",
      "execution_count": null,
      "metadata": {
        "colab": {
          "base_uri": "https://localhost:8080/"
        },
        "id": "9ckSQhL9M02u",
        "outputId": "b69e7a96-041e-4f94-cd03-1985cdf8ad70"
      },
      "outputs": [
        {
          "name": "stdout",
          "output_type": "stream",
          "text": [
            "Ahme\n"
          ]
        }
      ],
      "source": [
        "name=\"Ahmed Ali Raza\"\n",
        "print(name[0:4])  #Will print the first four letter"
      ]
    },
    {
      "cell_type": "code",
      "execution_count": null,
      "metadata": {
        "colab": {
          "base_uri": "https://localhost:8080/"
        },
        "id": "DFp5TE7qM2No",
        "outputId": "13e823f5-9d83-4f08-c2fc-cc001bb6bc5c"
      },
      "outputs": [
        {
          "name": "stdout",
          "output_type": "stream",
          "text": [
            "Ahme\n"
          ]
        }
      ],
      "source": [
        "name=\"Ahmed Ali Raza\"\n",
        "print(name[:4])  #auto zero will be assigned by the python itself"
      ]
    },
    {
      "cell_type": "code",
      "execution_count": null,
      "metadata": {
        "colab": {
          "base_uri": "https://localhost:8080/"
        },
        "id": "DZzewpaNOJZZ",
        "outputId": "25cc58b0-7853-491a-e4a4-2958738f2d0e"
      },
      "outputs": [
        {
          "name": "stdout",
          "output_type": "stream",
          "text": [
            "med\n"
          ]
        }
      ],
      "source": [
        "name=\"Ahmed Ali Raza\"\n",
        "print(name[2:5]) #it will start from m and end with d."
      ]
    },
    {
      "cell_type": "code",
      "execution_count": null,
      "metadata": {
        "colab": {
          "base_uri": "https://localhost:8080/"
        },
        "id": "CA09c7HGOJXS",
        "outputId": "15396c43-9b5c-429b-8a87-aa11fadbe3d8"
      },
      "outputs": [
        {
          "name": "stdout",
          "output_type": "stream",
          "text": [
            "Ahmed Ali Raza\n"
          ]
        }
      ],
      "source": [
        "name=\"Ahmed Ali Raza\"\n",
        "print(name[:])  #It will auto print the whole name."
      ]
    },
    {
      "cell_type": "markdown",
      "metadata": {
        "id": "Y0ye32VqQar0"
      },
      "source": [
        "**Negative Slicing**"
      ]
    },
    {
      "cell_type": "code",
      "execution_count": null,
      "metadata": {
        "colab": {
          "base_uri": "https://localhost:8080/"
        },
        "id": "zWxAGS1YOJDq",
        "outputId": "07b60b39-56df-411e-ccb5-82f4c0c9483b"
      },
      "outputs": [
        {
          "name": "stdout",
          "output_type": "stream",
          "text": [
            "Mango T\n"
          ]
        }
      ],
      "source": [
        "name = \"Mango Tango\"\n",
        "print(name[:-4])"
      ]
    },
    {
      "cell_type": "code",
      "execution_count": null,
      "metadata": {
        "colab": {
          "base_uri": "https://localhost:8080/"
        },
        "id": "AjgSbopFOIyt",
        "outputId": "43956f20-60a7-4544-9e72-9f22d6dab011"
      },
      "outputs": [
        {
          "name": "stdout",
          "output_type": "stream",
          "text": [
            "Mango T\n"
          ]
        }
      ],
      "source": [
        "name = \"Mango Tango\"\n",
        "print(name[:len(name)-4])"
      ]
    },
    {
      "cell_type": "code",
      "execution_count": null,
      "metadata": {
        "colab": {
          "base_uri": "https://localhost:8080/"
        },
        "id": "7Et0nCuzOIjg",
        "outputId": "5d8cf849-a390-42d8-e589-086ec2add8f7"
      },
      "outputs": [
        {
          "name": "stdout",
          "output_type": "stream",
          "text": [
            "hamma\n"
          ]
        }
      ],
      "source": [
        "name = \"Muhammad\"\n",
        "print(name[-6:-1])"
      ]
    },
    {
      "cell_type": "markdown",
      "metadata": {
        "id": "AHmRjhMBMrB8"
      },
      "source": [
        "### **TASK NO. 2**"
      ]
    },
    {
      "cell_type": "code",
      "execution_count": null,
      "metadata": {
        "colab": {
          "base_uri": "https://localhost:8080/"
        },
        "id": "KQXWi4RSINeG",
        "outputId": "cf80ebc4-efcb-466f-f506-2bd8e8c0d024"
      },
      "outputs": [
        {
          "name": "stdout",
          "output_type": "stream",
          "text": [
            "19\n"
          ]
        }
      ],
      "source": [
        "#Count the number of characters (including spaces) in the sentence.\n",
        "text=\"Why Are You Running\"\n",
        "print(len(text))"
      ]
    },
    {
      "cell_type": "code",
      "execution_count": null,
      "metadata": {
        "colab": {
          "base_uri": "https://localhost:8080/"
        },
        "id": "LYNVXLXVTD4C",
        "outputId": "52dcfec0-9e24-4869-8c91-12f4144501fb"
      },
      "outputs": [
        {
          "name": "stdout",
          "output_type": "stream",
          "text": [
            "4\n"
          ]
        }
      ],
      "source": [
        "# Count the number of words in the sentence.\n",
        "text=\"Why Are You Running\"\n",
        "print(len(text.split()))\n"
      ]
    },
    {
      "cell_type": "code",
      "execution_count": null,
      "metadata": {
        "colab": {
          "base_uri": "https://localhost:8080/"
        },
        "id": "tVnuwK5KTVzR",
        "outputId": "1b84251f-4049-426d-a5d9-a3828e144e8e"
      },
      "outputs": [
        {
          "name": "stdout",
          "output_type": "stream",
          "text": [
            "WHY ARE YOU RUNNING\n"
          ]
        }
      ],
      "source": [
        "# Convert the sentence to uppercase.\n",
        "text=\"Why Are You Running\"\n",
        "print(text.upper())"
      ]
    },
    {
      "cell_type": "code",
      "execution_count": null,
      "metadata": {
        "colab": {
          "base_uri": "https://localhost:8080/"
        },
        "id": "w7IOTljAPTHF",
        "outputId": "1d93338b-4575-4294-9345-78a79f5fce48"
      },
      "outputs": [
        {
          "name": "stdout",
          "output_type": "stream",
          "text": [
            "why are you running\n"
          ]
        }
      ],
      "source": [
        "# Convert the sentence to lowercase.\n",
        "text=\"Why Are You Running\"\n",
        "print(text.lower())"
      ]
    },
    {
      "cell_type": "code",
      "execution_count": null,
      "metadata": {
        "colab": {
          "base_uri": "https://localhost:8080/"
        },
        "id": "9eBwzazuPXZz",
        "outputId": "98db9e26-5759-42ef-a566-334d549bdbd6"
      },
      "outputs": [
        {
          "name": "stdout",
          "output_type": "stream",
          "text": [
            "['Running', 'You', 'Are', 'Why']\n"
          ]
        }
      ],
      "source": [
        "# Print the sentence in reverse order.\n",
        "text=\"Why Are You Running\"\n",
        "print(text.split()[::-1])"
      ]
    },
    {
      "cell_type": "markdown",
      "metadata": {
        "id": "z-KGnyarbfPR"
      },
      "source": [
        "## **Session NO. 3**"
      ]
    },
    {
      "cell_type": "markdown",
      "metadata": {
        "id": "sj8B9cS3cnd7"
      },
      "source": [
        "### **String Methods**"
      ]
    },
    {
      "cell_type": "code",
      "execution_count": null,
      "metadata": {
        "colab": {
          "base_uri": "https://localhost:8080/"
        },
        "id": "dFbUZXEaPk6A",
        "outputId": "5ffca20e-df89-4826-9b0b-61f9346141b0"
      },
      "outputs": [
        {
          "name": "stdout",
          "output_type": "stream",
          "text": [
            "FAWAD AHMED MIR\n"
          ]
        }
      ],
      "source": [
        "# UPPERCASE:\tConverts the string to uppercase letters.\n",
        "name=\"Fawad Ahmed Mir\"\n",
        "print(name.upper())"
      ]
    },
    {
      "cell_type": "code",
      "execution_count": null,
      "metadata": {
        "colab": {
          "base_uri": "https://localhost:8080/"
        },
        "id": "OvDIPs5ocEyW",
        "outputId": "42189799-94f7-4b90-efae-4e72552e6700"
      },
      "outputs": [
        {
          "name": "stdout",
          "output_type": "stream",
          "text": [
            "zain ali zain\n"
          ]
        }
      ],
      "source": [
        "# LOWERCASE:\tConverts the string to lowercase letters.\n",
        "name=\"Zain Ali Zain\"\n",
        "print(name.lower())"
      ]
    },
    {
      "cell_type": "code",
      "execution_count": null,
      "metadata": {
        "colab": {
          "base_uri": "https://localhost:8080/"
        },
        "id": "JbMyGkqjdIYo",
        "outputId": "2d915c6e-b229-41e6-a86a-b58940c26fe2"
      },
      "outputs": [
        {
          "name": "stdout",
          "output_type": "stream",
          "text": [
            "Raja Saad Jahandad\n"
          ]
        }
      ],
      "source": [
        "# STRIP:  Remove all the before and after white spaces in the string.\n",
        "name=\"      Raja Saad Jahandad         \"\n",
        "print(name.strip())"
      ]
    },
    {
      "cell_type": "code",
      "execution_count": null,
      "metadata": {
        "colab": {
          "base_uri": "https://localhost:8080/"
        },
        "id": "gxR2xOg1dlFp",
        "outputId": "6210aa0c-5682-4b49-9eac-807357cd2091"
      },
      "outputs": [
        {
          "name": "stdout",
          "output_type": "stream",
          "text": [
            "39\n",
            "Jaadu! Jaadu! Jaadu! Jaadu! YAyyyyyy\n",
            "Jaadu! Jaadu! Jaadu! Jaadu! YAyyyyyy\n"
          ]
        }
      ],
      "source": [
        "# RSTRIP:\t\tRemove the trailing characters.\n",
        "name =\"Jaadu! Jaadu! Jaadu! Jaadu! YAyyyyyy!!!\"\n",
        "print(len(name))\n",
        "print(name.rstrip(\"!\"))"
      ]
    },
    {
      "cell_type": "code",
      "execution_count": null,
      "metadata": {
        "colab": {
          "base_uri": "https://localhost:8080/"
        },
        "id": "OSgPAxSqeNYI",
        "outputId": "61dd3616-7f0e-458e-e25f-02af994f6ac4"
      },
      "outputs": [
        {
          "name": "stdout",
          "output_type": "stream",
          "text": [
            "Faizan Choudary\n",
            "Jawan Choudary\n"
          ]
        }
      ],
      "source": [
        "# REPLACE:\tReplace the word.\n",
        "name=\"Faizan Choudary\"\n",
        "print(name)\n",
        "# name.replace(\"Faizan\",\"Jawan\")\n",
        "print(name.replace(\"Faizan\",\"Jawan\"))\n"
      ]
    },
    {
      "cell_type": "code",
      "execution_count": null,
      "metadata": {
        "colab": {
          "base_uri": "https://localhost:8080/"
        },
        "id": "HEanhvEefy4Z",
        "outputId": "aa0dacfe-e4a7-4af3-e433-f76a641ebba6"
      },
      "outputs": [
        {
          "name": "stdout",
          "output_type": "stream",
          "text": [
            "['Ina', 'Mika', 'Dika', 'Raka', 'Maka', 'Daka']\n"
          ]
        }
      ],
      "source": [
        "# SPLIT:\t\tIt splits the given string and returns the separated strings as list item.\n",
        "name=\"Ina Mika Dika Raka Maka Daka\"\n",
        "print(name.split())"
      ]
    },
    {
      "cell_type": "code",
      "execution_count": null,
      "metadata": {
        "colab": {
          "base_uri": "https://localhost:8080/"
        },
        "id": "Wdg1r9d-gVnn",
        "outputId": "78fdc678-ceb8-4e8f-b6a3-bacbdb3be36f"
      },
      "outputs": [
        {
          "name": "stdout",
          "output_type": "stream",
          "text": [
            "Fawad ahmed mir\n"
          ]
        }
      ],
      "source": [
        "# CAPITALIZE:\tCapitalize the first letter only.\n",
        "name=\"fawad ahmed mir\"\n",
        "print(name.capitalize())"
      ]
    },
    {
      "cell_type": "code",
      "execution_count": null,
      "metadata": {
        "colab": {
          "base_uri": "https://localhost:8080/"
        },
        "id": "W4DKsmHsg0L3",
        "outputId": "713d22b4-249f-48ef-fed4-97afac89744d"
      },
      "outputs": [
        {
          "name": "stdout",
          "output_type": "stream",
          "text": [
            "True\n"
          ]
        }
      ],
      "source": [
        "# ENDSWITH:\tChecks the string end with the specified chaarcter or not. IF yes then return true else false.\n",
        "text=\"The Dog Barks Bow! Bow! Bow!\"\n",
        "print(text.endswith(\"!\"))"
      ]
    },
    {
      "cell_type": "code",
      "execution_count": null,
      "metadata": {
        "colab": {
          "base_uri": "https://localhost:8080/"
        },
        "id": "HZxW5sfEhPw8",
        "outputId": "e9eb754a-00de-4670-a362-b85d7a27a472"
      },
      "outputs": [
        {
          "name": "stdout",
          "output_type": "stream",
          "text": [
            "8\n"
          ]
        }
      ],
      "source": [
        "# FIND:  Returns the lowest index of a substring. Returns -1 if not found.\n",
        "text=\"Why Are You Running\"\n",
        "print(text.find(\"You\"))"
      ]
    },
    {
      "cell_type": "code",
      "execution_count": null,
      "metadata": {
        "colab": {
          "base_uri": "https://localhost:8080/"
        },
        "id": "gxZ6AfBfhgTF",
        "outputId": "af3499d5-04a4-47fa-cde3-80db3b197374"
      },
      "outputs": [
        {
          "name": "stdout",
          "output_type": "stream",
          "text": [
            "False\n",
            "True\n"
          ]
        }
      ],
      "source": [
        "# ISNUMERIC:Checks if all characters are numeric (or digits).\n",
        "text=\"Am I A Number? 123\"\n",
        "print(text.isnumeric())\n",
        "text=\"123\"\n",
        "print(text.isnumeric())"
      ]
    },
    {
      "cell_type": "code",
      "execution_count": null,
      "metadata": {
        "colab": {
          "base_uri": "https://localhost:8080/"
        },
        "id": "Nr_cDOX-lU1Q",
        "outputId": "ae317fea-5bc2-4ac8-be72-842e62d8a3fc"
      },
      "outputs": [
        {
          "name": "stdout",
          "output_type": "stream",
          "text": [
            "Hi! How Are You?\n"
          ]
        }
      ],
      "source": [
        "#TITLE: Convvert The String To Title Case\n",
        "text=\"hi! how are you?\"\n",
        "print(text.title())"
      ]
    },
    {
      "cell_type": "markdown",
      "metadata": {
        "id": "p5ZQv5jqnCyT"
      },
      "source": [
        "### **TASK NO.3**"
      ]
    },
    {
      "cell_type": "code",
      "execution_count": null,
      "metadata": {
        "colab": {
          "base_uri": "https://localhost:8080/"
        },
        "id": "-lTDD58lmSvI",
        "outputId": "c4063652-5d2b-445b-90ab-d720b0fa7c17"
      },
      "outputs": [
        {
          "name": "stdout",
          "output_type": "stream",
          "text": [
            "17\n",
            "False\n",
            "False\n",
            "False\n",
            "True\n",
            "False\n",
            "False\n",
            "Hello My Name Is Fawad Ahmed Mir. Are You Running Away From Progress?\n",
            "True\n",
            "hELLO MY NAME IS FAWAD AHMED MIR. aRE YOU RUNNING AWAY FROM PROGRESS?\n"
          ]
        }
      ],
      "source": [
        "text=\"Hello my name is fawad ahmed mir. Are you running away from progress?\"\n",
        "print(text.find(\"fawad\"))\n",
        "print(text.isnumeric())\n",
        "print(text.isalpha())\n",
        "print(text.islower())\n",
        "print(text.isprintable())\n",
        "print(text.isspace())\n",
        "print(text.istitle())\n",
        "print(text.title())\n",
        "print(text.startswith(\"Hello\"))\n",
        "print(text.swapcase())\n"
      ]
    },
    {
      "cell_type": "markdown",
      "metadata": {
        "id": "vB20NJj-oYOL"
      },
      "source": [
        "## **Session NO. 4**"
      ]
    },
    {
      "cell_type": "markdown",
      "metadata": {
        "id": "VgsGlHWmo2L4"
      },
      "source": [
        "### **Conditional Operators**"
      ]
    },
    {
      "cell_type": "code",
      "execution_count": null,
      "metadata": {
        "colab": {
          "base_uri": "https://localhost:8080/"
        },
        "id": "IvjpkZzlnWAF",
        "outputId": "63477aa8-da20-42ee-f0ec-b34308b32d0c"
      },
      "outputs": [
        {
          "name": "stdout",
          "output_type": "stream",
          "text": [
            "Enter Your Age : 21\n",
            "Your Age is :  21\n",
            "False\n",
            "True\n",
            "False\n",
            "True\n",
            "False\n",
            "True\n"
          ]
        }
      ],
      "source": [
        "Age=int(input(\"Enter Your Age : \"))\n",
        "print(\"Your Age is : \",Age)\n",
        "print(Age==18)\n",
        "print(Age>18)\n",
        "print(Age<18)\n",
        "print(Age>=18)\n",
        "print(Age<=18)\n",
        "print(Age!=18)"
      ]
    },
    {
      "cell_type": "code",
      "execution_count": null,
      "metadata": {
        "colab": {
          "base_uri": "https://localhost:8080/"
        },
        "id": "dm6y6kCKpFnO",
        "outputId": "3e42113e-648f-4607-b13c-e67b5619f70d"
      },
      "outputs": [
        {
          "name": "stdout",
          "output_type": "stream",
          "text": [
            "you are eligible to drive\n"
          ]
        }
      ],
      "source": [
        "age=21\n",
        "\n",
        "if(age>18):\n",
        "  print(\"you are eligible to drive\")\n",
        "else:\n",
        "  print(\"you are not eligible to drive\")"
      ]
    },
    {
      "cell_type": "code",
      "execution_count": null,
      "metadata": {
        "colab": {
          "base_uri": "https://localhost:8080/"
        },
        "id": "tLEkZLM4vZHm",
        "outputId": "85716c9e-efbf-4426-a3e3-68f3bd0f2fe1"
      },
      "outputs": [
        {
          "name": "stdout",
          "output_type": "stream",
          "text": [
            "Enter the value: 7\n",
            "The Number is not equal to Zero\n"
          ]
        }
      ],
      "source": [
        "N = int(input(\"Enter the value: \"))\n",
        "if(N<0):\n",
        "    print(\"The Number is Negative\")\n",
        "elif(N==0):\n",
        "    print(\"The Number is Zero\")\n",
        "elif(N!=0):\n",
        "    print(\"The Number is not equal to Zero\")\n",
        "elif(N>0):\n",
        "    print(\"The Number is greater than zero\")\n",
        "elif(N<=0):\n",
        "    print(\"The Number is less or equal to zero\")\n",
        "else:\n",
        "    print(\"The Number is greater or equal to zero\")"
      ]
    },
    {
      "cell_type": "code",
      "execution_count": null,
      "metadata": {
        "colab": {
          "base_uri": "https://localhost:8080/"
        },
        "id": "pMq88ZNVvgUy",
        "outputId": "6374db4d-614b-4c2c-e5cb-20b9d5d97791"
      },
      "outputs": [
        {
          "name": "stdout",
          "output_type": "stream",
          "text": [
            "Enter the Value: 20\n",
            "The Number is Greater than zero\n",
            "The Number is in between 10 and 11\n"
          ]
        }
      ],
      "source": [
        "num = int(input(\"Enter the Value: \"))\n",
        "if (num<0):\n",
        "    print(\"The value is less than zero\")\n",
        "elif(num>0):\n",
        "    print(\"The Number is Greater than zero\")\n",
        "    if(num<=10):\n",
        "        print(\"The Number is less or equal to 10\")\n",
        "    elif(num>10 and num<=11):\n",
        "        print(\"The Number is in between 10 and 11\")\n",
        "    elif(num>10 and num<=20):\n",
        "        print(\"The number is in between 10 and 21\")\n",
        "    else:\n",
        "        print(\"the number is greater than 20\")\n",
        "else:\n",
        "    print(\"The Number is equal to zero\")"
      ]
    },
    {
      "cell_type": "markdown",
      "metadata": {
        "id": "0kYDFh58yJ7f"
      },
      "source": [
        "### **Task no.4**"
      ]
    },
    {
      "cell_type": "code",
      "execution_count": null,
      "metadata": {
        "colab": {
          "base_uri": "https://localhost:8080/"
        },
        "id": "ESseMSmtx4V6",
        "outputId": "f818eb87-8274-4862-824f-79697013ad41"
      },
      "outputs": [
        {
          "name": "stdout",
          "output_type": "stream",
          "text": [
            "Good Morning!\n",
            "You Time Is : 05:50:34 am\n"
          ]
        }
      ],
      "source": [
        "import time\n",
        "# print(dir(time))\n",
        "actual_time=time.strftime(\"%I:%M:%S %P\")\n",
        "current_time=time.localtime().tm_hour\n",
        "if(current_time < 12 ):\n",
        "  print(\"Good Morning!\")\n",
        "elif(current_time > 12 and current_time < 6):\n",
        "  print(\"Good Afternoon!\")\n",
        "else:\n",
        "  print(\"Good Evening!\")\n",
        "\n",
        "print(f\"You Time Is : {actual_time}\")"
      ]
    },
    {
      "cell_type": "markdown",
      "metadata": {
        "id": "ifrFtO3u2ezK"
      },
      "source": [
        "## **Session No. 5**"
      ]
    },
    {
      "cell_type": "markdown",
      "metadata": {
        "id": "vH7uh88V5iB_"
      },
      "source": [
        "### **Match Case**"
      ]
    },
    {
      "cell_type": "code",
      "execution_count": null,
      "metadata": {
        "colab": {
          "base_uri": "https://localhost:8080/"
        },
        "id": "k684P_g_zMr8",
        "outputId": "fc4b273a-7bef-415c-e8db-4de0b4813d2b"
      },
      "outputs": [
        {
          "name": "stdout",
          "output_type": "stream",
          "text": [
            "Enter Value of X : 0\n",
            "Case is Zero\n"
          ]
        }
      ],
      "source": [
        "x=int(input(\"Enter Value of X : \"))\n",
        "\n",
        "match x:\n",
        "  case 0:\n",
        "    print(\"Case is Zero\")\n",
        "  case 7:\n",
        "    print(\"CR7 Suiiiiiiii\")\n",
        "  case _:\n",
        "    print(x)"
      ]
    },
    {
      "cell_type": "code",
      "execution_count": null,
      "metadata": {
        "colab": {
          "base_uri": "https://localhost:8080/"
        },
        "id": "aVB7qBfk62Ap",
        "outputId": "0895edc0-b5d4-45e8-ba03-af4097777d81"
      },
      "outputs": [
        {
          "name": "stdout",
          "output_type": "stream",
          "text": [
            "Enter Value Of X : 10\n",
            "10 is not 9\n"
          ]
        }
      ],
      "source": [
        "x=int(input(\"Enter Value Of X : \"))\n",
        "match x:\n",
        "  case 0:\n",
        "    print(\"Case Is Zero\")\n",
        "  case 7:\n",
        "    print(\"Ronaldo Suiiiii\")\n",
        "  case _ if x!=9:\n",
        "    print(f\"{x} is not 9\")\n",
        "  case _ if x > 0:\n",
        "    print(f\"{x} is greater than 0\")\n",
        "  case _:\n",
        "    print(f\"{x}, is an alien\")"
      ]
    },
    {
      "cell_type": "code",
      "execution_count": null,
      "metadata": {
        "colab": {
          "base_uri": "https://localhost:8080/"
        },
        "id": "DEo50cz_72f6",
        "outputId": "6122e1f2-763d-46bd-d0cd-9d68d5782fe3"
      },
      "outputs": [
        {
          "name": "stdout",
          "output_type": "stream",
          "text": [
            "Enter Number : 3\n",
            "3 is an odd number\n"
          ]
        }
      ],
      "source": [
        "x=int(input(\"Enter Number : \"))\n",
        "\n",
        "match x:\n",
        "  case _ if(x%2==0):\n",
        "    print(f\"{x} is an even number\")\n",
        "  case _ if(x%2!=0):\n",
        "    print(f\"{x} is an odd number\")\n",
        "  case _:\n",
        "    print(x)"
      ]
    },
    {
      "cell_type": "markdown",
      "metadata": {
        "id": "EhAshLay9hcd"
      },
      "source": [
        "### **Task No. 5**"
      ]
    },
    {
      "cell_type": "code",
      "execution_count": null,
      "metadata": {
        "colab": {
          "base_uri": "https://localhost:8080/"
        },
        "id": "j6SA7uKO8aLb",
        "outputId": "690fa34c-6c03-4a03-d8d4-aec746f180bb"
      },
      "outputs": [
        {
          "name": "stdout",
          "output_type": "stream",
          "text": [
            "Enter Number : 5\n",
            "Friday\n"
          ]
        }
      ],
      "source": [
        "x=int(input(\"Enter Number : \"))\n",
        "match x:\n",
        "  case 1:\n",
        "    print(\"Monday\")\n",
        "  case 2:\n",
        "    print(\"Tuesday\")\n",
        "  case 3:\n",
        "    print(\"Wednesday\")\n",
        "  case 4:\n",
        "    print(\"Thursday\")\n",
        "  case 5:\n",
        "    print(\"Friday\")\n",
        "  case 6:\n",
        "    print(\"Saturday\")\n",
        "  case 7:\n",
        "    print(\"Sunday\")\n",
        "  case _:\n",
        "    print(f\"{x} is an invalid day\")"
      ]
    },
    {
      "cell_type": "markdown",
      "metadata": {
        "id": "_m55hyKy-PA6"
      },
      "source": [
        "## **Session NO. 6**"
      ]
    },
    {
      "cell_type": "markdown",
      "metadata": {
        "id": "DNxeLL02A36m"
      },
      "source": [
        "### **Loop**"
      ]
    },
    {
      "cell_type": "markdown",
      "metadata": {
        "id": "vuD7vHZyKmSK"
      },
      "source": [
        "**For Loop**"
      ]
    },
    {
      "cell_type": "code",
      "execution_count": null,
      "metadata": {
        "colab": {
          "base_uri": "https://localhost:8080/"
        },
        "id": "hakCtSq4-LBX",
        "outputId": "24c64219-76eb-4637-fe73-803188daa428"
      },
      "outputs": [
        {
          "name": "stdout",
          "output_type": "stream",
          "text": [
            "Rizwan R\n",
            "Rizwan i\n",
            "Rizwan z\n",
            "Rizwan w\n",
            "Rizwan a\n",
            "Rizwan n\n"
          ]
        }
      ],
      "source": [
        "name=\"Rizwan\"\n",
        "for i in name:\n",
        "  print(name , i)"
      ]
    },
    {
      "cell_type": "code",
      "execution_count": null,
      "metadata": {
        "colab": {
          "base_uri": "https://localhost:8080/"
        },
        "id": "xLuS2RO4BQJ9",
        "outputId": "afb22ed0-8355-477d-cc7e-01eccc14d8a2"
      },
      "outputs": [
        {
          "name": "stdout",
          "output_type": "stream",
          "text": [
            "['Red', 'Blue', 'Green', 'Yellow', 'Voilet'] Red\n",
            "['Red', 'Blue', 'Green', 'Yellow', 'Voilet'] Blue\n",
            "['Red', 'Blue', 'Green', 'Yellow', 'Voilet'] Green\n",
            "['Red', 'Blue', 'Green', 'Yellow', 'Voilet'] Yellow\n",
            "['Red', 'Blue', 'Green', 'Yellow', 'Voilet'] Voilet\n"
          ]
        }
      ],
      "source": [
        "colors = [\"Red\",\"Blue\",\"Green\",\"Yellow\",\"Voilet\"]\n",
        "for i in colors:\n",
        "  print(colors,i)"
      ]
    },
    {
      "cell_type": "code",
      "execution_count": null,
      "metadata": {
        "colab": {
          "base_uri": "https://localhost:8080/"
        },
        "id": "c2v0ueEBFaK8",
        "outputId": "41995544-2e77-425c-93b0-85d116b941a8"
      },
      "outputs": [
        {
          "name": "stdout",
          "output_type": "stream",
          "text": [
            "Red\n",
            "\n",
            "\n",
            "\n",
            "Blue\n",
            "\n",
            "\n",
            "\n",
            "\n",
            "Green\n",
            "\n",
            "\n",
            "\n",
            "\n",
            "\n",
            "Yellow\n",
            "\n",
            "\n",
            "\n",
            "\n",
            "\n",
            "\n",
            "Voilet\n",
            "\n",
            "\n",
            "\n",
            "\n",
            "\n",
            "\n"
          ]
        }
      ],
      "source": [
        "colors = [\"Red\",\"Blue\",\"Green\",\"Yellow\",\"Voilet\"]\n",
        "for color in colors:\n",
        "    print(color)\n",
        "    for i in color:\n",
        "        print()"
      ]
    },
    {
      "cell_type": "code",
      "execution_count": null,
      "metadata": {
        "colab": {
          "base_uri": "https://localhost:8080/"
        },
        "id": "0HWsrgbaHHct",
        "outputId": "72ab9021-a378-4cc2-b990-12f15803bc03"
      },
      "outputs": [
        {
          "name": "stdout",
          "output_type": "stream",
          "text": [
            "['R', 'e', 'd', 'B', 'l', 'u', 'e', 'G', 'r', 'e', 'e', 'n', 'Y', 'e', 'l', 'l', 'o', 'w', 'V', 'o', 'i', 'l', 'e', 't']\n"
          ]
        }
      ],
      "source": [
        "colors = [\"Red\",\"Blue\",\"Green\",\"Yellow\",\"Voilet\"]\n",
        "C= [c for color in colors for c in color]\n",
        "print(C)"
      ]
    },
    {
      "cell_type": "code",
      "execution_count": null,
      "metadata": {
        "colab": {
          "base_uri": "https://localhost:8080/"
        },
        "id": "JIDTvFqPICuG",
        "outputId": "1bb442e3-d244-460e-e24a-bdbbbdd36ee7"
      },
      "outputs": [
        {
          "name": "stdout",
          "output_type": "stream",
          "text": [
            "Red\n",
            "R\n",
            "e\n",
            "d\n",
            "Blue\n",
            "B\n",
            "l\n",
            "u\n",
            "e\n",
            "Green\n",
            "G\n",
            "r\n",
            "e\n",
            "e\n",
            "n\n",
            "Yellow\n",
            "Y\n",
            "e\n",
            "l\n",
            "l\n",
            "o\n",
            "w\n",
            "Voilet\n",
            "V\n",
            "o\n",
            "i\n",
            "l\n",
            "e\n",
            "t\n"
          ]
        }
      ],
      "source": [
        "colors = [\"Red\",\"Blue\",\"Green\",\"Yellow\",\"Voilet\"]\n",
        "_=[print(color) or [print(c) for c in color] for color in colors]"
      ]
    },
    {
      "cell_type": "code",
      "execution_count": null,
      "metadata": {
        "colab": {
          "base_uri": "https://localhost:8080/"
        },
        "id": "Rm3aqNF2Ic4F",
        "outputId": "d2470f3c-fc3b-4299-de2c-7980b06d118b"
      },
      "outputs": [
        {
          "name": "stdout",
          "output_type": "stream",
          "text": [
            "0\n",
            "1\n",
            "2\n",
            "3\n",
            "4\n"
          ]
        }
      ],
      "source": [
        "for j in range(5):\n",
        "  print(j)"
      ]
    },
    {
      "cell_type": "code",
      "execution_count": null,
      "metadata": {
        "colab": {
          "base_uri": "https://localhost:8080/"
        },
        "id": "bX3CAHS4JxPE",
        "outputId": "5ac13b01-7807-4c16-d5f2-e063f7d473de"
      },
      "outputs": [
        {
          "name": "stdout",
          "output_type": "stream",
          "text": [
            "0\n",
            "1\n",
            "2\n",
            "3\n",
            "4\n"
          ]
        }
      ],
      "source": [
        "for k in range(0,5):\n",
        "  print(k)"
      ]
    },
    {
      "cell_type": "code",
      "execution_count": null,
      "metadata": {
        "colab": {
          "base_uri": "https://localhost:8080/"
        },
        "id": "MKIH-dBKJ4bZ",
        "outputId": "764733a0-a0df-44d0-89a9-3ad0fee1f5c3"
      },
      "outputs": [
        {
          "name": "stdout",
          "output_type": "stream",
          "text": [
            "-10\n",
            "-9\n",
            "-8\n",
            "-7\n",
            "-6\n",
            "-5\n",
            "-4\n",
            "-3\n",
            "-2\n",
            "-1\n",
            "0\n",
            "1\n",
            "2\n",
            "3\n",
            "4\n",
            "5\n",
            "6\n",
            "7\n",
            "8\n",
            "9\n"
          ]
        }
      ],
      "source": [
        "for l in range(-10,10):\n",
        "  print(l)"
      ]
    },
    {
      "cell_type": "code",
      "execution_count": null,
      "metadata": {
        "colab": {
          "base_uri": "https://localhost:8080/"
        },
        "id": "bUqw3erkJ9T3",
        "outputId": "19eb58a6-d7fb-4ad6-b0d4-b0d90894561f"
      },
      "outputs": [
        {
          "name": "stdout",
          "output_type": "stream",
          "text": [
            "0\n",
            "-1\n",
            "-2\n",
            "-3\n",
            "-4\n",
            "-5\n",
            "-6\n",
            "-7\n",
            "-8\n",
            "-9\n"
          ]
        }
      ],
      "source": [
        "for k in range(0,-10, -1):\n",
        "\tprint(k)"
      ]
    },
    {
      "cell_type": "code",
      "execution_count": null,
      "metadata": {
        "colab": {
          "base_uri": "https://localhost:8080/"
        },
        "id": "d0tXfghVKB0p",
        "outputId": "4272e19b-7df8-41cb-a9c0-0adab02545be"
      },
      "outputs": [
        {
          "name": "stdout",
          "output_type": "stream",
          "text": [
            "0 1\n",
            "2 3\n",
            "4 5\n",
            "6 7\n",
            "8 9\n",
            "10 11\n",
            "12 13\n",
            "14 15\n",
            "16 17\n",
            "18 19\n",
            "20 21\n"
          ]
        }
      ],
      "source": [
        "for i in range(0,21,2):\n",
        "  print(i, i+1)"
      ]
    },
    {
      "cell_type": "markdown",
      "metadata": {
        "id": "-TNPaHXLKqoz"
      },
      "source": [
        "**While Loop**"
      ]
    },
    {
      "cell_type": "code",
      "execution_count": null,
      "metadata": {
        "colab": {
          "base_uri": "https://localhost:8080/"
        },
        "id": "ViCuKcw2KWWi",
        "outputId": "7b2d2a3f-d704-45e7-cc1a-1dad89c759c5"
      },
      "outputs": [
        {
          "name": "stdout",
          "output_type": "stream",
          "text": [
            "0\n",
            "1\n",
            "2\n",
            "3\n",
            "4\n"
          ]
        }
      ],
      "source": [
        "x=0\n",
        "while(x < 5):\n",
        "  print(x)\n",
        "  x=x+1"
      ]
    },
    {
      "cell_type": "code",
      "execution_count": null,
      "metadata": {
        "colab": {
          "base_uri": "https://localhost:8080/"
        },
        "id": "2GBEu1EgLIOU",
        "outputId": "078c01b1-67b9-4302-b847-d959a026015c"
      },
      "outputs": [
        {
          "name": "stdout",
          "output_type": "stream",
          "text": [
            "Number : 3\n",
            "3\n",
            "Number : 2\n",
            "2\n",
            "Number : 5\n",
            "5\n",
            "Number : 6\n",
            "6\n",
            "Number : -1\n",
            "-1\n"
          ]
        }
      ],
      "source": [
        "while True:\n",
        "  num=int(input(\"Number : \"))\n",
        "  print(num)\n",
        "  if not num > 0:\n",
        "    break"
      ]
    },
    {
      "cell_type": "code",
      "execution_count": null,
      "metadata": {
        "colab": {
          "base_uri": "https://localhost:8080/"
        },
        "id": "_QmjaWCQLdN7",
        "outputId": "069fc9fb-7a79-436d-8738-98a3cd84b533"
      },
      "outputs": [
        {
          "name": "stdout",
          "output_type": "stream",
          "text": [
            "5\n",
            "4\n",
            "3\n",
            "2\n",
            "1\n",
            "I am Inside Else Block\n"
          ]
        }
      ],
      "source": [
        "x=5\n",
        "while (x>0):\n",
        "  print(x)\n",
        "  x=x-1\n",
        "else:\n",
        "  print(\"I am Inside Else Block\")"
      ]
    },
    {
      "cell_type": "markdown",
      "metadata": {
        "id": "tEZyoJXnMFU3"
      },
      "source": [
        "### **Task NO. 6**"
      ]
    },
    {
      "cell_type": "code",
      "execution_count": null,
      "metadata": {
        "colab": {
          "base_uri": "https://localhost:8080/"
        },
        "id": "hSv4Oo-9MBN0",
        "outputId": "b30176b0-4e1d-4b51-c1d7-6984f12bc462"
      },
      "outputs": [
        {
          "name": "stdout",
          "output_type": "stream",
          "text": [
            "2500\n"
          ]
        }
      ],
      "source": [
        "# TASK: range = 1 to 100.\n",
        "# sum of even numbers.\n",
        "sum = 0\n",
        "for i in range(1,100,2):\n",
        "  sum=sum+i\n",
        "print(sum)"
      ]
    },
    {
      "cell_type": "code",
      "execution_count": null,
      "metadata": {
        "colab": {
          "base_uri": "https://localhost:8080/"
        },
        "id": "ef0b0-c8MjB-",
        "outputId": "38d6fc37-2150-4568-c6f6-7dae5e62c8d7"
      },
      "outputs": [
        {
          "name": "stdout",
          "output_type": "stream",
          "text": [
            "5 X 1 = 5\n",
            "5 X 2 = 10\n",
            "5 X 3 = 15\n",
            "5 X 4 = 20\n",
            "5 X 5 = 25\n",
            "5 X 6 = 30\n",
            "5 X 7 = 35\n",
            "5 X 8 = 40\n",
            "5 X 9 = 45\n"
          ]
        }
      ],
      "source": [
        "for i in range(1,100):\n",
        "  if(i<11):\n",
        "    print(f\"5 X {i} = {5*i}\")\n",
        "    i=i+1\n",
        "  if(i==10):\n",
        "    break\n"
      ]
    },
    {
      "cell_type": "code",
      "execution_count": null,
      "metadata": {
        "colab": {
          "base_uri": "https://localhost:8080/"
        },
        "id": "6PVkaDkvNVFN",
        "outputId": "e10a785a-8ba9-4861-9796-03d83b0ca6a4"
      },
      "outputs": [
        {
          "name": "stdout",
          "output_type": "stream",
          "text": [
            "1 Mission Successful\n",
            "2 Mission Successful\n",
            "3 Mission Successful\n",
            "4 Mission Successful\n",
            "5 Mission Successful\n",
            "6 Mission Successful\n",
            "7 Mission Successful\n",
            "8 Mission Successful\n",
            "9 Mission Successful\n",
            "10 Mission Successful\n",
            "11 Mission Successful\n",
            "12 Mission Successful\n",
            "13 Mission Successful\n",
            "14 Mission Successful\n",
            "15 Mission Successful\n",
            "16 Mission Successful\n",
            "17 Mission Successful\n",
            "18 Mission Successful\n",
            "19 Mission Successful\n",
            "20 Mission Successful\n",
            "21 Mission Successful\n",
            "22 Mission Successful\n",
            "23 Mission Successful\n",
            "24 Mission Successful\n",
            "25 Mission Successful\n",
            "26 Mission Successful\n",
            "27 Mission Successful\n",
            "28 Mission Successful\n",
            "29 Mission Successful\n",
            "30 Mission Successful\n",
            "31 Mission Successful\n",
            "32 Mission Successful\n",
            "33 Mission Successful\n",
            "34 Mission Successful\n",
            "35 Mission Successful\n",
            "36 Mission Successful\n",
            "37 Mission Successful\n",
            "38 Mission Successful\n",
            "39 Mission Successful\n",
            "40 Mission Successful\n",
            "41 Mission Successful\n",
            "42 Mission Successful\n",
            "43 Mission Successful\n",
            "44 Mission Successful\n",
            "45 Mission Successful\n",
            "46 Mission Successful\n",
            "47 Mission Successful\n",
            "48 Mission Successful\n",
            "49 Mission Successful\n",
            "50 thank you\n"
          ]
        }
      ],
      "source": [
        "for i in range(1,101):\n",
        "  print(i,end=\" \")\n",
        "  if(i==50):\n",
        "    break\n",
        "  print(\"Mission Successful\")\n",
        "print(\"thank you\")\n"
      ]
    },
    {
      "cell_type": "code",
      "execution_count": null,
      "metadata": {
        "colab": {
          "base_uri": "https://localhost:8080/"
        },
        "id": "zqRGvc6rOdBj",
        "outputId": "ba8b8865-3a07-457b-c67e-6d452bcee8c8"
      },
      "outputs": [
        {
          "name": "stdout",
          "output_type": "stream",
          "text": [
            "3\n",
            "5\n",
            "7\n",
            "5\n",
            "3\n"
          ]
        }
      ],
      "source": [
        "for i in [2,3,5,7,8,5,4,3]:\n",
        "  if i%2==0:\n",
        "    continue\n",
        "  print(i)"
      ]
    },
    {
      "cell_type": "code",
      "execution_count": null,
      "metadata": {
        "colab": {
          "base_uri": "https://localhost:8080/"
        },
        "id": "QGL0ncTnP5v_",
        "outputId": "72271bf0-87de-4f5c-b043-66652897f3d6"
      },
      "outputs": [
        {
          "name": "stdout",
          "output_type": "stream",
          "text": [
            "0\n",
            "1\n",
            "2\n",
            "3\n",
            "4\n",
            "5\n",
            "6\n",
            "7\n",
            "8\n",
            "9\n",
            "10\n",
            "11\n",
            "12\n",
            "13\n",
            "14\n",
            "15\n",
            "16\n",
            "17\n",
            "18\n",
            "19\n",
            "20\n"
          ]
        }
      ],
      "source": [
        "i=0\n",
        "while True:\n",
        "  print(i)\n",
        "  i=i+1\n",
        "  if(i%100 == 21):\n",
        "    break"
      ]
    },
    {
      "cell_type": "markdown",
      "metadata": {
        "id": "JBgVWsT4RZpL"
      },
      "source": [
        "## **Session No. 7**"
      ]
    },
    {
      "cell_type": "markdown",
      "metadata": {
        "id": "368YU3FvxR_j"
      },
      "source": [
        "### **Functions**"
      ]
    },
    {
      "cell_type": "code",
      "execution_count": null,
      "metadata": {
        "id": "2Vdrqkk-zWAG"
      },
      "outputs": [],
      "source": [
        "import math"
      ]
    },
    {
      "cell_type": "markdown",
      "metadata": {
        "id": "DOIkVTb6zbuu"
      },
      "source": [
        "**User Defined**"
      ]
    },
    {
      "cell_type": "code",
      "execution_count": null,
      "metadata": {
        "colab": {
          "base_uri": "https://localhost:8080/"
        },
        "id": "GTk1QxVtQL0I",
        "outputId": "272e9565-fb5b-43d2-de5f-cd3feea04d4e"
      },
      "outputs": [
        {
          "output_type": "stream",
          "name": "stdout",
          "text": [
            "Hello Mellow adnan rashid\n"
          ]
        }
      ],
      "source": [
        "def greet(name):\n",
        "  print(\"Hello Mellow\", name)\n",
        "\n",
        "greet(\"adnan rashid\")"
      ]
    },
    {
      "cell_type": "code",
      "execution_count": null,
      "metadata": {
        "colab": {
          "base_uri": "https://localhost:8080/"
        },
        "id": "PzNzjWcxyk3f",
        "outputId": "8ca6c1b6-6fc7-4530-e9a4-e2b09233a87b"
      },
      "outputs": [
        {
          "output_type": "stream",
          "name": "stdout",
          "text": [
            "57\n"
          ]
        }
      ],
      "source": [
        "def add(a,b):\n",
        "  return a+b\n",
        "\n",
        "result=add(28,29)\n",
        "print(result)"
      ]
    },
    {
      "cell_type": "markdown",
      "metadata": {
        "id": "WUW-bM4kzfYU"
      },
      "source": [
        "**Pre-Defined**"
      ]
    },
    {
      "cell_type": "code",
      "execution_count": null,
      "metadata": {
        "colab": {
          "base_uri": "https://localhost:8080/"
        },
        "id": "4Wv9bFfwzB_m",
        "outputId": "c2350c51-1295-451e-942d-76e207b1a575"
      },
      "outputs": [
        {
          "output_type": "stream",
          "name": "stdout",
          "text": [
            "11\n"
          ]
        }
      ],
      "source": [
        "text=\"Hello World\"\n",
        "print(len(text))"
      ]
    },
    {
      "cell_type": "code",
      "execution_count": null,
      "metadata": {
        "colab": {
          "base_uri": "https://localhost:8080/"
        },
        "id": "mHyKMGN2zTyL",
        "outputId": "93d5dd14-512f-4ad1-f14c-cdadfdf088c5"
      },
      "outputs": [
        {
          "output_type": "stream",
          "name": "stdout",
          "text": [
            "10\n"
          ]
        }
      ],
      "source": [
        "lst=[1,2,3,4]\n",
        "print(sum(lst))"
      ]
    },
    {
      "cell_type": "code",
      "execution_count": null,
      "metadata": {
        "colab": {
          "base_uri": "https://localhost:8080/"
        },
        "id": "YkGQdag-z9MK",
        "outputId": "a611d373-a5e3-49d4-f316-d3beedbabf57"
      },
      "outputs": [
        {
          "output_type": "stream",
          "name": "stdout",
          "text": [
            "5\n"
          ]
        }
      ],
      "source": [
        "num=-5\n",
        "print(abs(num))"
      ]
    },
    {
      "cell_type": "code",
      "execution_count": null,
      "metadata": {
        "colab": {
          "base_uri": "https://localhost:8080/"
        },
        "id": "gqgCtdy20FAq",
        "outputId": "2cc79e7f-4431-45de-c86f-0d9f71867ad9"
      },
      "outputs": [
        {
          "output_type": "stream",
          "name": "stdout",
          "text": [
            "[0, 1, 3, 4, 9, 15]\n"
          ]
        }
      ],
      "source": [
        "tupl=(3,1,4,15,9,0)\n",
        "print(sorted(tupl))"
      ]
    },
    {
      "cell_type": "code",
      "execution_count": null,
      "metadata": {
        "colab": {
          "base_uri": "https://localhost:8080/"
        },
        "id": "Q-GCYBoZ0Ruk",
        "outputId": "4af028fb-aa1f-4b28-ec53-fea51263f24e"
      },
      "outputs": [
        {
          "output_type": "stream",
          "name": "stdout",
          "text": [
            "0 apple\n",
            "1 banana\n",
            "2 cherry\n",
            "3 berry\n"
          ]
        }
      ],
      "source": [
        "my_list=['apple','banana','cherry','berry']\n",
        "for index,value in enumerate(my_list):\n",
        "  print(index,value)"
      ]
    },
    {
      "cell_type": "markdown",
      "metadata": {
        "id": "yu8wKiU7GeFN"
      },
      "source": [
        "**Default Arguments**"
      ]
    },
    {
      "cell_type": "code",
      "execution_count": null,
      "metadata": {
        "colab": {
          "base_uri": "https://localhost:8080/"
        },
        "id": "hOcvc7X91AOq",
        "outputId": "c61864c1-d99f-4939-d297-b59659e9dcac"
      },
      "outputs": [
        {
          "output_type": "stream",
          "name": "stdout",
          "text": [
            "Fawad Ahmed Mir\n"
          ]
        }
      ],
      "source": [
        "def complete_name(fname,mname=\"Ahmed\",lname=\"Mir\"):\n",
        "  print(fname,mname,lname)\n",
        "\n",
        "complete_name(\"Fawad\")"
      ]
    },
    {
      "cell_type": "code",
      "execution_count": null,
      "metadata": {
        "colab": {
          "base_uri": "https://localhost:8080/"
        },
        "id": "NYY2EF6h15Zy",
        "outputId": "4653c960-5849-4f7a-b841-0405c13bec32"
      },
      "outputs": [
        {
          "output_type": "stream",
          "name": "stdout",
          "text": [
            "Average Of A And B : 8.5\n",
            "Average Of A And B : 12.5\n"
          ]
        }
      ],
      "source": [
        "def average(a=7,b=10):\n",
        "  print(f\"Average Of A And B : {(a+b)/2}\")\n",
        "\n",
        "average()\n",
        "average(10,15)"
      ]
    },
    {
      "cell_type": "markdown",
      "metadata": {
        "id": "siwuv-P9Gp8R"
      },
      "source": [
        "**Keyword Argument**"
      ]
    },
    {
      "cell_type": "code",
      "execution_count": null,
      "metadata": {
        "colab": {
          "base_uri": "https://localhost:8080/"
        },
        "id": "hEihTX1BGALG",
        "outputId": "7610f2d5-9a96-43f3-d2a7-338381301b75"
      },
      "outputs": [
        {
          "output_type": "stream",
          "name": "stdout",
          "text": [
            "Fawad Ahmed Mir\n"
          ]
        }
      ],
      "source": [
        "def name(fname,mname,lname):\n",
        "  print(f\"{fname} {mname} {lname}\")\n",
        "\n",
        "name(mname=\"Ahmed\",lname=\"Mir\",fname=\"Fawad\")"
      ]
    },
    {
      "cell_type": "markdown",
      "metadata": {
        "id": "w7XtrwkjHWNQ"
      },
      "source": [
        "**REQUIRED ARGUMENTS**"
      ]
    },
    {
      "cell_type": "code",
      "execution_count": null,
      "metadata": {
        "colab": {
          "base_uri": "https://localhost:8080/"
        },
        "id": "3wEiZJA9HMTI",
        "outputId": "fc279f8e-6041-42a6-d2a7-db95be1b0c0c"
      },
      "outputs": [
        {
          "output_type": "stream",
          "name": "stdout",
          "text": [
            "Value of X : 5\n",
            "Value of Y : 5\n",
            "Average : 5.0\n"
          ]
        }
      ],
      "source": [
        "def average(a,b):\n",
        "  print(f\"Average : {(a+b)/2}\")\n",
        "x=int(input(\"Value of X : \"))\n",
        "y=int(input(\"Value of Y : \"))\n",
        "\n",
        "average(x,y)"
      ]
    },
    {
      "cell_type": "markdown",
      "metadata": {
        "id": "_J0VLfvLH2TP"
      },
      "source": [
        "**ARBITARY ARGUMENTS**"
      ]
    },
    {
      "cell_type": "code",
      "execution_count": null,
      "metadata": {
        "colab": {
          "base_uri": "https://localhost:8080/"
        },
        "id": "ISlfBzzMHxvo",
        "outputId": "fc2349fe-7892-4bd8-f8aa-1bbdc4215430"
      },
      "outputs": [
        {
          "output_type": "stream",
          "name": "stdout",
          "text": [
            "Average is:  5.5\n"
          ]
        }
      ],
      "source": [
        "def avg(*num):\n",
        "    sum = 0\n",
        "    for i in num:\n",
        "\n",
        "     sum = sum+i\n",
        "    print(\"Average is: \", sum/len(num))\n",
        "\n",
        "avg(1,2,3,4,5,6,7,8,9,10)"
      ]
    },
    {
      "cell_type": "markdown",
      "metadata": {
        "id": "c8k5xb8uJgf3"
      },
      "source": [
        "**Task NO. 7**"
      ]
    },
    {
      "cell_type": "code",
      "execution_count": null,
      "metadata": {
        "colab": {
          "base_uri": "https://localhost:8080/"
        },
        "id": "MtJ8rVeiIUA8",
        "outputId": "82786e7d-b257-463c-91fd-ce730ad076ed"
      },
      "outputs": [
        {
          "output_type": "stream",
          "name": "stdout",
          "text": [
            "English Out Of 100 : 60\n",
            "Urdu Out Of 100 : 60\n",
            "Maths Out Of 100 : 60\n",
            "Bio Out Of 100 : 60\n",
            "Total Percentage 60.0\n",
            "D Grade\n"
          ]
        }
      ],
      "source": [
        "def Grading(Eng,Urdu,Maths,Bio):\n",
        "  sum=((Eng+Urdu+Maths+Bio)/400)*100\n",
        "  print(f\"Total Percentage {sum}\")\n",
        "  if(sum<=100 and sum >=90):\n",
        "    print(\"A+ Grade\")\n",
        "  elif(sum<=89 and sum >=80):\n",
        "    print(\"B+ Grade\")\n",
        "  elif(sum<=79 and sum >=70):\n",
        "    print(\"C Grade\")\n",
        "  elif(sum<=69 and sum >=60):\n",
        "    print(\"D Grade\")\n",
        "  elif(sum<=59 and sum >= 0):\n",
        "    print(\"F Grade\")\n",
        "  else:\n",
        "    print(\"Invalid Result\")\n",
        "\n",
        "English=int(input(\"English Out Of 100 : \"))\n",
        "Urdu=int(input(\"Urdu Out Of 100 : \"))\n",
        "Maths=int(input(\"Maths Out Of 100 : \"))\n",
        "Bio=int(input(\"Bio Out Of 100 : \"))\n",
        "\n",
        "Grading(English,Urdu,Maths,Bio)\n"
      ]
    },
    {
      "cell_type": "markdown",
      "metadata": {
        "id": "O8ekG7j3MAxy"
      },
      "source": [
        "**Decorators**"
      ]
    },
    {
      "cell_type": "code",
      "execution_count": null,
      "metadata": {
        "colab": {
          "base_uri": "https://localhost:8080/"
        },
        "id": "ZfV0fixCLKE6",
        "outputId": "496106dc-348c-4387-caa5-106def8fafb4"
      },
      "outputs": [
        {
          "output_type": "stream",
          "name": "stdout",
          "text": [
            "Something is happening before the function is called.\n",
            "Hello!!! fawad\n",
            "Something is happening after the function is called.\n"
          ]
        }
      ],
      "source": [
        "def my_decorator(func):\n",
        "  def wrapper(name):\n",
        "      print(\"Something is happening before the function is called.\")\n",
        "      func(name)\n",
        "      print(\"Something is happening after the function is called.\")\n",
        "  return wrapper\n",
        "\n",
        "@my_decorator\n",
        "def say_hello(name):\n",
        "  print(\"Hello!!!\",name)\n",
        "\n",
        "say_hello(\"fawad\")"
      ]
    },
    {
      "cell_type": "markdown",
      "metadata": {
        "id": "ek51NW98XBuC"
      },
      "source": [
        "**Self Task**"
      ]
    },
    {
      "cell_type": "code",
      "execution_count": null,
      "metadata": {
        "id": "90Qo7YopUwEg"
      },
      "outputs": [],
      "source": [
        "#Question:\n",
        "# Write a decorator called log_execution that logs the name of the function being\n",
        "# called and the time it took to execute. Then, apply this decorator to a function\n",
        "# slow_add(a, b) that sleeps for 2 seconds and returns the sum of a and b.\n",
        "\n",
        "# Requirements:\n",
        "# The decorator should print:\n",
        "#The name of the function before execution.\n",
        "# The time taken to execute the function after it finishes."
      ]
    },
    {
      "cell_type": "code",
      "execution_count": null,
      "metadata": {
        "colab": {
          "base_uri": "https://localhost:8080/"
        },
        "id": "n6j-pKZyXKzc",
        "outputId": "396e4e65-b693-4ec4-c325-58b8cfbd881f"
      },
      "outputs": [
        {
          "output_type": "stream",
          "name": "stdout",
          "text": [
            "Function Name : slow_add\n",
            "Sum Of A + B = 11\n",
            "slow_add took 2.0002644062042236 to execute\n"
          ]
        }
      ],
      "source": [
        "import time\n",
        "def log_execution(func):\n",
        "  def wrapper(a,b):\n",
        "      print(f\"Function Name : {func.__name__}\")\n",
        "      start_time=time.time()\n",
        "      result=func(a,b)\n",
        "      end_time=time.time()\n",
        "      elapsed_time=end_time-start_time\n",
        "\n",
        "      print(f\"{func.__name__} took {elapsed_time} to execute\")\n",
        "      return result\n",
        "  return wrapper\n",
        "\n",
        "@log_execution\n",
        "def slow_add(a,b):\n",
        "  time.sleep(2)\n",
        "  print(f\"Sum Of A + B = {a+b}\")\n",
        "\n",
        "slow_add(5,6)\n"
      ]
    },
    {
      "cell_type": "code",
      "execution_count": null,
      "metadata": {
        "colab": {
          "base_uri": "https://localhost:8080/"
        },
        "id": "0HjJMniEYa5n",
        "outputId": "014cb96a-1b3c-479c-efb4-4c5606c1b9bc"
      },
      "outputs": [
        {
          "output_type": "stream",
          "name": "stdout",
          "text": [
            "Hello, very nice to meet you, Fawad!\n",
            "Lorem ipsum dolor sit amet, consectetur adipiscing elit.\n",
            "Mauris ornare sed tellus faucibus viverra. \n",
            "Pellentesque sit amet risus sapien. \n",
            "Aliquam erat volutpat. \n",
            "Curabitur elit enim, suscipit ac augue suscipit, interdum feugiat magna. \n",
            "Proin at porttitor diam. ac turpis egestas.\n",
            "Thank You\n"
          ]
        }
      ],
      "source": [
        "def decorator(func):\n",
        "  def wrapper(*args,**kwargs):\n",
        "    naam=kwargs.get('name')\n",
        "    if naam is None and args:\n",
        "            naam = args[0]\n",
        "\n",
        "    print(f\"Hello, very nice to meet you, {naam}!\")\n",
        "    result=func(*args,**kwargs)\n",
        "    print(f\"Thank You\")\n",
        "    return result\n",
        "  return wrapper\n",
        "\n",
        "@decorator\n",
        "def letter(name):\n",
        "  print(\"Lorem ipsum dolor sit amet, consectetur adipiscing elit.\\nMauris ornare sed tellus faucibus viverra. \\nPellentesque sit amet risus sapien. \\nAliquam erat volutpat. \\nCurabitur elit enim, suscipit ac augue suscipit, interdum feugiat magna. \\nProin at porttitor diam. ac turpis egestas.\")\n",
        "\n",
        "letter(\"Fawad\")"
      ]
    },
    {
      "cell_type": "markdown",
      "metadata": {
        "id": "IT-iHjBskoz4"
      },
      "source": [
        "## **Session NO. 8**"
      ]
    },
    {
      "cell_type": "markdown",
      "metadata": {
        "id": "qwhDywIKkyAU"
      },
      "source": [
        "### **Lists**"
      ]
    },
    {
      "cell_type": "code",
      "execution_count": null,
      "metadata": {
        "id": "ytT7zpvnLC2-",
        "colab": {
          "base_uri": "https://localhost:8080/"
        },
        "outputId": "5ee4abc5-719a-4108-fde0-efc1bfabc29f"
      },
      "outputs": [
        {
          "output_type": "stream",
          "name": "stdout",
          "text": [
            "[3, 5, 7]\n",
            "<class 'list'>\n",
            "5\n"
          ]
        }
      ],
      "source": [
        "l = [3,5,7]\n",
        "print(l)\n",
        "print(type(l))\n",
        "print(l[1])"
      ]
    },
    {
      "cell_type": "code",
      "source": [
        "l=[1,2,3,\"MRK\",True]\n",
        "print(type(l))"
      ],
      "metadata": {
        "colab": {
          "base_uri": "https://localhost:8080/"
        },
        "id": "x1MuOXEAsjOg",
        "outputId": "a77c9c73-f569-40e9-cfaf-5bd6079b4942"
      },
      "execution_count": null,
      "outputs": [
        {
          "output_type": "stream",
          "name": "stdout",
          "text": [
            "<class 'list'>\n"
          ]
        }
      ]
    },
    {
      "cell_type": "code",
      "source": [
        "colors = ['Red','Blue','Green']\n",
        "print(colors[-1])\n",
        "print(colors[-2])\n",
        "print(colors[-3])"
      ],
      "metadata": {
        "colab": {
          "base_uri": "https://localhost:8080/"
        },
        "id": "rMUMyYaos4LI",
        "outputId": "c98abf3b-bde9-487d-b770-a0e0b4ae2f12"
      },
      "execution_count": null,
      "outputs": [
        {
          "output_type": "stream",
          "name": "stdout",
          "text": [
            "Green\n",
            "Blue\n",
            "Red\n"
          ]
        }
      ]
    },
    {
      "cell_type": "code",
      "source": [
        "colors = ['Red','Green','Blue','Y']\n",
        "for i in colors:\n",
        "  if i == 'Y':\n",
        "    print(\"Found\", i)\n"
      ],
      "metadata": {
        "id": "QEX8N0YntxgN",
        "colab": {
          "base_uri": "https://localhost:8080/"
        },
        "outputId": "e8a2af83-6d70-4760-e0ef-a74045c46d35"
      },
      "execution_count": null,
      "outputs": [
        {
          "output_type": "stream",
          "name": "stdout",
          "text": [
            "Found Y\n"
          ]
        }
      ]
    },
    {
      "cell_type": "code",
      "source": [
        "animals=['Monkey','Donkey','Tiger','Lion','Bat']\n",
        "print(animals[1:6:3])"
      ],
      "metadata": {
        "id": "AAZjFm0y_ZNc",
        "colab": {
          "base_uri": "https://localhost:8080/"
        },
        "outputId": "7323fed2-24d0-4c05-abbc-fd26ef66b63c"
      },
      "execution_count": null,
      "outputs": [
        {
          "output_type": "stream",
          "name": "stdout",
          "text": [
            "['Donkey', 'Bat']\n"
          ]
        }
      ]
    },
    {
      "cell_type": "markdown",
      "source": [
        "### **List Comprehension**"
      ],
      "metadata": {
        "id": "kiG08WB2bYXD"
      }
    },
    {
      "cell_type": "code",
      "source": [
        "#list = [Expression(item) for item in iterable if condition]\n",
        "lst = [i*i for i in range(4)]\n",
        "print(lst)"
      ],
      "metadata": {
        "colab": {
          "base_uri": "https://localhost:8080/"
        },
        "id": "TSmAtRfjXNue",
        "outputId": "5fe9e7e9-d170-45a2-a196-f5a17805630a"
      },
      "execution_count": null,
      "outputs": [
        {
          "output_type": "stream",
          "name": "stdout",
          "text": [
            "[0, 1, 4, 9]\n"
          ]
        }
      ]
    },
    {
      "cell_type": "code",
      "source": [
        "lst = [i for i in range(20) if i%2==0]\n",
        "print(lst)"
      ],
      "metadata": {
        "colab": {
          "base_uri": "https://localhost:8080/"
        },
        "id": "Hc_4HC8Zbvg8",
        "outputId": "d1c6f718-72ff-4fe2-82ad-cc0542f8072b"
      },
      "execution_count": null,
      "outputs": [
        {
          "output_type": "stream",
          "name": "stdout",
          "text": [
            "[0, 2, 4, 6, 8, 10, 12, 14, 16, 18]\n"
          ]
        }
      ]
    },
    {
      "cell_type": "code",
      "source": [
        "names= ['Choi Sab','Jutt Sab','Farhoot Sab','Mirsab']\n",
        "lst=[name for name in names if 'o' in name]\n",
        "print(lst)"
      ],
      "metadata": {
        "colab": {
          "base_uri": "https://localhost:8080/"
        },
        "id": "-eoR0DSQcAmP",
        "outputId": "42a6e33c-c451-4f3f-98db-ea49b79e581a"
      },
      "execution_count": null,
      "outputs": [
        {
          "output_type": "stream",
          "name": "stdout",
          "text": [
            "['Choi Sab', 'Farhoot Sab']\n"
          ]
        }
      ]
    },
    {
      "cell_type": "code",
      "source": [
        "names = ['zain','zaid','saad','fawad']\n",
        "lst=[name for name in names if name.startswith('z')]\n",
        "print(lst)"
      ],
      "metadata": {
        "colab": {
          "base_uri": "https://localhost:8080/"
        },
        "id": "uK6ydxYFcic5",
        "outputId": "56954f19-0ccd-499d-8660-8915385d4e7a"
      },
      "execution_count": null,
      "outputs": [
        {
          "output_type": "stream",
          "name": "stdout",
          "text": [
            "['zain', 'zaid']\n"
          ]
        }
      ]
    },
    {
      "cell_type": "markdown",
      "source": [
        "### **List Methods**"
      ],
      "metadata": {
        "id": "9ijwpPCZZqeA"
      }
    },
    {
      "cell_type": "code",
      "source": [
        "my_list = [3, 1, 2]\n",
        "my_list.sort()\n",
        "print(my_list)  # [1, 2, 3]\n",
        "\n",
        "my_list.sort(reverse=True)\n",
        "print(my_list)  # [3, 2, 1]\n"
      ],
      "metadata": {
        "id": "Z9W4LhZddFYI",
        "colab": {
          "base_uri": "https://localhost:8080/"
        },
        "outputId": "2a7038ef-187c-46ee-bdfb-a2a354568206"
      },
      "execution_count": null,
      "outputs": [
        {
          "output_type": "stream",
          "name": "stdout",
          "text": [
            "[1, 2, 3]\n",
            "[3, 2, 1]\n"
          ]
        }
      ]
    },
    {
      "cell_type": "code",
      "source": [
        "my_list = [1, 2, 3]\n",
        "my_list.reverse()\n",
        "print(my_list)  # [3, 2, 1]\n"
      ],
      "metadata": {
        "colab": {
          "base_uri": "https://localhost:8080/"
        },
        "id": "7OGJmY0tbljU",
        "outputId": "252e0f8a-bd6b-422e-a11b-f8fe54d4ed12"
      },
      "execution_count": null,
      "outputs": [
        {
          "output_type": "stream",
          "name": "stdout",
          "text": [
            "[3, 2, 1]\n"
          ]
        }
      ]
    },
    {
      "cell_type": "code",
      "source": [
        "my_list = [1, 2, 3]\n",
        "new_list = my_list.copy()\n",
        "print(new_list)  # [1, 2, 3]\n"
      ],
      "metadata": {
        "colab": {
          "base_uri": "https://localhost:8080/"
        },
        "id": "V9dhIgvCdurI",
        "outputId": "87c8ee02-929a-465b-97e5-f36ad85ee34f"
      },
      "execution_count": null,
      "outputs": [
        {
          "output_type": "stream",
          "name": "stdout",
          "text": [
            "[1, 2, 3]\n"
          ]
        }
      ]
    },
    {
      "cell_type": "code",
      "source": [
        "my_list = [1, 2, 2, 3]\n",
        "print(my_list.count(2))  # 2\n"
      ],
      "metadata": {
        "colab": {
          "base_uri": "https://localhost:8080/"
        },
        "id": "pUXb4vsodyHD",
        "outputId": "b40632a0-867a-4759-e918-eea11843e256"
      },
      "execution_count": null,
      "outputs": [
        {
          "output_type": "stream",
          "name": "stdout",
          "text": [
            "2\n"
          ]
        }
      ]
    },
    {
      "cell_type": "code",
      "source": [
        "my_list = [1, 2, 3]\n",
        "my_list.clear()\n",
        "print(my_list)  # []\n"
      ],
      "metadata": {
        "colab": {
          "base_uri": "https://localhost:8080/"
        },
        "id": "oh2uNIykd0SS",
        "outputId": "6a6a5d26-01ab-4c35-8f01-1feee8064e89"
      },
      "execution_count": null,
      "outputs": [
        {
          "output_type": "stream",
          "name": "stdout",
          "text": [
            "[]\n"
          ]
        }
      ]
    },
    {
      "cell_type": "code",
      "source": [
        "my_list = [1, 2, 3]\n",
        "item = my_list.pop()\n",
        "print(item)     # 3\n",
        "print(my_list)  # [1, 2]\n"
      ],
      "metadata": {
        "colab": {
          "base_uri": "https://localhost:8080/"
        },
        "id": "zD3CM_apd1-d",
        "outputId": "577727d0-031b-4990-e504-cbc12e711af8"
      },
      "execution_count": null,
      "outputs": [
        {
          "output_type": "stream",
          "name": "stdout",
          "text": [
            "3\n",
            "[1, 2]\n"
          ]
        }
      ]
    },
    {
      "cell_type": "code",
      "source": [
        "my_list = [1, 2, 3, 2]\n",
        "my_list.remove(2)\n",
        "print(my_list)  # [1, 3, 2]\n"
      ],
      "metadata": {
        "colab": {
          "base_uri": "https://localhost:8080/"
        },
        "id": "wR3n9Vxxd4BG",
        "outputId": "49a3231f-fff2-42b9-fb80-220f9fefc42e"
      },
      "execution_count": null,
      "outputs": [
        {
          "output_type": "stream",
          "name": "stdout",
          "text": [
            "[1, 3, 2]\n"
          ]
        }
      ]
    },
    {
      "cell_type": "markdown",
      "source": [
        "### **Tuples & Sets**"
      ],
      "metadata": {
        "id": "OiJJIlpzfILJ"
      }
    },
    {
      "cell_type": "code",
      "source": [
        "student_info=(\"Fawad\",21,\"A+\")\n",
        "print(student_info[0])\n",
        "print(student_info[1:3])"
      ],
      "metadata": {
        "colab": {
          "base_uri": "https://localhost:8080/"
        },
        "id": "ua5rFrtyd6NK",
        "outputId": "72eecfd3-2472-45c6-9cc5-d0ce924883eb"
      },
      "execution_count": null,
      "outputs": [
        {
          "output_type": "stream",
          "name": "stdout",
          "text": [
            "Fawad\n",
            "(21, 'A+')\n"
          ]
        }
      ]
    },
    {
      "cell_type": "code",
      "source": [
        "maths_students={\"Alice\",\"Bob\",\"Sam\"}\n",
        "science_students={\"Tim\",\"Bob\",\"Mark\"}\n",
        "print(maths_students.union(science_students))"
      ],
      "metadata": {
        "colab": {
          "base_uri": "https://localhost:8080/"
        },
        "id": "7QlPWTAVfxrq",
        "outputId": "0451358d-c455-473d-e305-8251d47def2e"
      },
      "execution_count": null,
      "outputs": [
        {
          "output_type": "stream",
          "name": "stdout",
          "text": [
            "{'Mark', 'Tim', 'Alice', 'Bob', 'Sam'}\n"
          ]
        }
      ]
    },
    {
      "cell_type": "code",
      "source": [
        "print(maths_students.intersection(science_students))"
      ],
      "metadata": {
        "colab": {
          "base_uri": "https://localhost:8080/"
        },
        "id": "T7dXr8oCglsC",
        "outputId": "67f1a91b-51c7-4781-dff3-87cc50bcb3b8"
      },
      "execution_count": null,
      "outputs": [
        {
          "output_type": "stream",
          "name": "stdout",
          "text": [
            "{'Bob'}\n"
          ]
        }
      ]
    },
    {
      "cell_type": "code",
      "source": [
        "print((maths_students.difference(science_students)).union(science_students.difference(maths_students)))"
      ],
      "metadata": {
        "colab": {
          "base_uri": "https://localhost:8080/"
        },
        "id": "El0RLGeogtUg",
        "outputId": "68ae8f3f-611a-46a0-b5da-f7b44d2d3411"
      },
      "execution_count": null,
      "outputs": [
        {
          "output_type": "stream",
          "name": "stdout",
          "text": [
            "{'Alice', 'Mark', 'Tim', 'Sam'}\n"
          ]
        }
      ]
    },
    {
      "cell_type": "code",
      "source": [
        "maths_students.add(\"Frank\")\n",
        "print(maths_students)"
      ],
      "metadata": {
        "colab": {
          "base_uri": "https://localhost:8080/"
        },
        "id": "XPE-0MLQg1El",
        "outputId": "530b99d3-448a-41fe-fe6d-85c56bb1bfc1"
      },
      "execution_count": null,
      "outputs": [
        {
          "output_type": "stream",
          "name": "stdout",
          "text": [
            "{'Frank', 'Alice', 'Bob', 'Sam'}\n"
          ]
        }
      ]
    },
    {
      "cell_type": "code",
      "source": [
        "tupal=(1,2,3,4,5)\n",
        "sets=set(tupal)\n",
        "print(sets)"
      ],
      "metadata": {
        "colab": {
          "base_uri": "https://localhost:8080/"
        },
        "id": "GDx3uk2mha0A",
        "outputId": "68a766f4-42ba-4f4f-b844-082a84e31f35"
      },
      "execution_count": null,
      "outputs": [
        {
          "output_type": "stream",
          "name": "stdout",
          "text": [
            "{1, 2, 3, 4, 5}\n"
          ]
        }
      ]
    },
    {
      "cell_type": "code",
      "source": [
        "if(len(tupal)==len(sets)):\n",
        "  print(sets)\n",
        "else:\n",
        "  print(\"There are duplicates\")"
      ],
      "metadata": {
        "colab": {
          "base_uri": "https://localhost:8080/"
        },
        "id": "-r8p5WuQhxg-",
        "outputId": "a8b2e924-c803-413a-f99d-6e6db77ef866"
      },
      "execution_count": null,
      "outputs": [
        {
          "output_type": "stream",
          "name": "stdout",
          "text": [
            "{1, 2, 3, 4, 5}\n"
          ]
        }
      ]
    },
    {
      "cell_type": "code",
      "source": [
        "print(sum(sets))"
      ],
      "metadata": {
        "colab": {
          "base_uri": "https://localhost:8080/"
        },
        "id": "1I6U7K8Eh2Ut",
        "outputId": "825898df-4748-4715-fbcd-e0807ca1ade9"
      },
      "execution_count": null,
      "outputs": [
        {
          "output_type": "stream",
          "name": "stdout",
          "text": [
            "15\n"
          ]
        }
      ]
    },
    {
      "cell_type": "markdown",
      "source": [
        "## **Session NO. 9**"
      ],
      "metadata": {
        "id": "6UWmM_cL7u78"
      }
    },
    {
      "cell_type": "markdown",
      "source": [
        "### **Dictionary**"
      ],
      "metadata": {
        "id": "FlR7LUZy78fM"
      }
    },
    {
      "cell_type": "code",
      "source": [
        "dct={\"Name\":\"Fawad\",\"Class\":\"BSCS\",\"RollNo\":\"3rd\"}\n",
        "print(dct)"
      ],
      "metadata": {
        "id": "Tltdm9nwi0zc",
        "colab": {
          "base_uri": "https://localhost:8080/"
        },
        "outputId": "115f03cb-2178-4fe7-a064-887b3d04cef9"
      },
      "execution_count": null,
      "outputs": [
        {
          "output_type": "stream",
          "name": "stdout",
          "text": [
            "{'Name': 'Fawad', 'Class': 'BSCS', 'RollNo': '3rd'}\n"
          ]
        }
      ]
    },
    {
      "cell_type": "code",
      "source": [
        "dct={\"Model\":\"Rx-7,Rx-8,Rx-5\",\"Car\":\"Mazda\"}\n",
        "dct.get(\"Model\")"
      ],
      "metadata": {
        "colab": {
          "base_uri": "https://localhost:8080/",
          "height": 35
        },
        "id": "58XB0IDOA8Xi",
        "outputId": "e815c36f-24bd-453e-bb00-790b2267b367"
      },
      "execution_count": null,
      "outputs": [
        {
          "output_type": "execute_result",
          "data": {
            "text/plain": [
              "'Rx-7,Rx-8,Rx-5'"
            ],
            "application/vnd.google.colaboratory.intrinsic+json": {
              "type": "string"
            }
          },
          "metadata": {},
          "execution_count": 4
        }
      ]
    },
    {
      "cell_type": "code",
      "source": [
        "dct={\"Model\":\"Rx-7,Rx-8,Rx-5\",\"Car\":\"Mazda\"}\n",
        "dct.keys()"
      ],
      "metadata": {
        "colab": {
          "base_uri": "https://localhost:8080/"
        },
        "id": "cjKjBIIMQGRZ",
        "outputId": "84848e44-d3eb-4626-b345-af10cf10b858"
      },
      "execution_count": null,
      "outputs": [
        {
          "output_type": "execute_result",
          "data": {
            "text/plain": [
              "dict_keys(['Model', 'Car'])"
            ]
          },
          "metadata": {},
          "execution_count": 10
        }
      ]
    },
    {
      "cell_type": "code",
      "source": [
        "dct={\"Model\":\"Rx-7,Rx-8,Rx-5\",\"Car\":\"Mazda\"}\n",
        "dct.values()"
      ],
      "metadata": {
        "colab": {
          "base_uri": "https://localhost:8080/"
        },
        "id": "kqI-pba4QGFn",
        "outputId": "0179a0e1-4718-4a5f-b36b-6519c6a09ef8"
      },
      "execution_count": null,
      "outputs": [
        {
          "output_type": "execute_result",
          "data": {
            "text/plain": [
              "dict_values(['Rx-7,Rx-8,Rx-5', 'Mazda'])"
            ]
          },
          "metadata": {},
          "execution_count": 11
        }
      ]
    },
    {
      "cell_type": "code",
      "source": [
        "dct={\"Model\":\"Rx-7,Rx-8,Rx-5\",\"Car\":\"Mazda\"}\n",
        "dct1=dct.copy()\n",
        "print(dct1)"
      ],
      "metadata": {
        "colab": {
          "base_uri": "https://localhost:8080/"
        },
        "id": "CgsDy9J2QFt4",
        "outputId": "7be7b66f-c5eb-4290-8344-f1b44bcc2e0a"
      },
      "execution_count": null,
      "outputs": [
        {
          "output_type": "stream",
          "name": "stdout",
          "text": [
            "{'Model': 'Rx-7,Rx-8,Rx-5', 'Car': 'Mazda'}\n"
          ]
        }
      ]
    },
    {
      "cell_type": "code",
      "source": [
        "dct={\"Model\":\"Rx-7,Rx-8,Rx-5\",\"Car\":\"Mazda\"}\n",
        "dct.update({\"Year\":\"1996\"})\n",
        "print(dct)"
      ],
      "metadata": {
        "colab": {
          "base_uri": "https://localhost:8080/"
        },
        "id": "wpwrQWTIZhxZ",
        "outputId": "1821875b-c1be-41d5-8a2e-bfa694f0ad81"
      },
      "execution_count": null,
      "outputs": [
        {
          "output_type": "stream",
          "name": "stdout",
          "text": [
            "{'Model': 'Rx-7,Rx-8,Rx-5', 'Car': 'Mazda', 'Year': '1996'}\n"
          ]
        }
      ]
    },
    {
      "cell_type": "code",
      "source": [],
      "metadata": {
        "id": "MFl0o4vCZhfb"
      },
      "execution_count": null,
      "outputs": []
    },
    {
      "cell_type": "markdown",
      "source": [
        "**TaskNo. 8**"
      ],
      "metadata": {
        "id": "vfK3q_1dCc9U"
      }
    },
    {
      "cell_type": "code",
      "source": [
        "dct1={\"Name\":\"Fawad\",\"Class\":\"BSCS\",\"Rollno\":\"3rd\"}\n",
        "dct2={\"Book\":\"Us\",\"Bike\":\"Bayk\"}\n",
        "dct3=dct1 | dct2\n",
        "print(dct3)"
      ],
      "metadata": {
        "colab": {
          "base_uri": "https://localhost:8080/"
        },
        "id": "-naBEOmnB15i",
        "outputId": "295208eb-46ed-470c-fd9b-3deb6592fecf"
      },
      "execution_count": null,
      "outputs": [
        {
          "output_type": "stream",
          "name": "stdout",
          "text": [
            "{'Name': 'Fawad', 'Class': 'BSCS', 'Rollno': '3rd', 'Book': 'Us', 'Bike': 'Bayk'}\n"
          ]
        }
      ]
    },
    {
      "cell_type": "code",
      "source": [
        "dct1={\"Name\":\"Fawad\",\"Class\":\"BSCS\",\"Rollno\":\"3rd\"}\n",
        "dct2={\"Book\":\"Us\",\"Bike\":\"Bayk\"}\n",
        "dct3=dct1.copy()\n",
        "print(dct3)\n",
        "dct3.update(dct2)\n",
        "print(dct3)"
      ],
      "metadata": {
        "colab": {
          "base_uri": "https://localhost:8080/"
        },
        "id": "E6kekoiwC5_n",
        "outputId": "cae95fea-5aa1-40af-9723-7c22a0d9d68a"
      },
      "execution_count": null,
      "outputs": [
        {
          "output_type": "stream",
          "name": "stdout",
          "text": [
            "{'Name': 'Fawad', 'Class': 'BSCS', 'Rollno': '3rd'}\n",
            "{'Name': 'Fawad', 'Class': 'BSCS', 'Rollno': '3rd', 'Book': 'Us', 'Bike': 'Bayk'}\n"
          ]
        }
      ]
    },
    {
      "cell_type": "code",
      "source": [
        "dct3={**dct1,**dct2}\n",
        "print(dct3)"
      ],
      "metadata": {
        "colab": {
          "base_uri": "https://localhost:8080/"
        },
        "id": "8PyT-yNKbo1W",
        "outputId": "95f932f3-ee9b-4b82-a54a-1a9cad28db99"
      },
      "execution_count": null,
      "outputs": [
        {
          "output_type": "stream",
          "name": "stdout",
          "text": [
            "{'Name': 'Fawad', 'Class': 'BSCS', 'Rollno': '3rd', 'Book': 'Us', 'Bike': 'Bayk'}\n"
          ]
        }
      ]
    },
    {
      "cell_type": "code",
      "source": [
        "info={\"name\":\"fawad\",\"age\":22,\"address\":\"plate\"}\n",
        "info.update({\"Employement Status\":\"Unemployed\"})\n",
        "print(info)"
      ],
      "metadata": {
        "colab": {
          "base_uri": "https://localhost:8080/"
        },
        "id": "5WTjjnxNcB2q",
        "outputId": "db0aef4b-735c-4eca-cd13-237788c9a2e3"
      },
      "execution_count": null,
      "outputs": [
        {
          "output_type": "stream",
          "name": "stdout",
          "text": [
            "{'name': 'fawad', 'age': 22, 'address': 'plate', 'Employement Status': 'Unemployed'}\n"
          ]
        }
      ]
    },
    {
      "cell_type": "markdown",
      "source": [
        "## **Session No. 10**"
      ],
      "metadata": {
        "id": "cwMJJSo6dIwJ"
      }
    },
    {
      "cell_type": "markdown",
      "source": [
        "### **File Handling**"
      ],
      "metadata": {
        "id": "p82Mk1UDddsz"
      }
    },
    {
      "cell_type": "code",
      "source": [
        "f=open(\"demo.txt\",\"w\")\n",
        "f.write(\"What Are You Doing!\")\n",
        "f.close()"
      ],
      "metadata": {
        "id": "tx9MxgTdc0O4"
      },
      "execution_count": null,
      "outputs": []
    },
    {
      "cell_type": "code",
      "source": [
        "f=open(\"demo.txt\",\"r\")\n",
        "data=f.read()\n",
        "print(data)"
      ],
      "metadata": {
        "colab": {
          "base_uri": "https://localhost:8080/"
        },
        "id": "Zhu67dGsdy0P",
        "outputId": "9a674376-adbe-4dda-ac00-3e648ab9e9da"
      },
      "execution_count": null,
      "outputs": [
        {
          "output_type": "stream",
          "name": "stdout",
          "text": [
            "What Are You Doing!\n"
          ]
        }
      ]
    },
    {
      "cell_type": "code",
      "source": [
        "f=open(\"demo.txt\",\"a\")\n",
        "f.write(\"\\nThis Is The New Line\")\n",
        "f.close()\n",
        "f=open(\"demo.txt\",\"r\")\n",
        "data=f.read()\n",
        "print(data)"
      ],
      "metadata": {
        "colab": {
          "base_uri": "https://localhost:8080/"
        },
        "id": "4cTSofGzePJv",
        "outputId": "f6a79b70-9c2a-4707-ce16-934519bbf578"
      },
      "execution_count": null,
      "outputs": [
        {
          "output_type": "stream",
          "name": "stdout",
          "text": [
            "What Are You Doing!\n",
            "This Is The New Line\n"
          ]
        }
      ]
    },
    {
      "cell_type": "code",
      "source": [
        "f=open(\"demo.png\",\"w\")\n",
        "f.write(\"This is a png file\")\n",
        "f.close()\n",
        "f=open(\"demo.png\",\"r\")\n",
        "data=f.read()\n",
        "print(data)"
      ],
      "metadata": {
        "colab": {
          "base_uri": "https://localhost:8080/"
        },
        "id": "Hwz4R09LecSd",
        "outputId": "63dc03cd-a6cc-4e52-e306-4a4381291849"
      },
      "execution_count": null,
      "outputs": [
        {
          "output_type": "stream",
          "name": "stdout",
          "text": [
            "This is a png file\n"
          ]
        }
      ]
    },
    {
      "cell_type": "code",
      "source": [
        "with open(\"file.txt\",'w') as f:\n",
        "  f.write('This is the second syntax to write in a file')\n",
        "with open(\"file.txt\",\"r\") as f:\n",
        "  data=f.read()\n",
        "  print(data)"
      ],
      "metadata": {
        "colab": {
          "base_uri": "https://localhost:8080/"
        },
        "id": "MXW4MpoTezhk",
        "outputId": "5eceff43-75e7-4b9b-a7fe-df0f56b590f7"
      },
      "execution_count": null,
      "outputs": [
        {
          "output_type": "stream",
          "name": "stdout",
          "text": [
            "This is the second syntax to write in a file\n"
          ]
        }
      ]
    },
    {
      "cell_type": "code",
      "source": [
        "import os\n",
        "os.remove('demo.txt')"
      ],
      "metadata": {
        "id": "ij7VAIZehBwl"
      },
      "execution_count": null,
      "outputs": []
    },
    {
      "cell_type": "code",
      "source": [
        "from pathlib import Path\n",
        "\n",
        "for file in Path('.').rglob('demo.txt'):\n",
        "    print(file)\n",
        "\n"
      ],
      "metadata": {
        "id": "UZYUZGrkfw6I"
      },
      "execution_count": null,
      "outputs": []
    },
    {
      "cell_type": "markdown",
      "source": [
        "### **Task No. 10**"
      ],
      "metadata": {
        "id": "rNXDRB2phJw2"
      }
    },
    {
      "cell_type": "code",
      "source": [
        "with open('practice.txt', 'r+') as f:\n",
        "    f.write('Hi every one. \\nI am the Ai, Machine Learning and deep Learning Trainer.\\nI use the Java Language for my Projects.\\nI like programming in Java.')\n",
        "\n",
        "    f.seek(0)  # Move pointer back to the beginning\n",
        "    data = f.read()\n",
        "    print(data)\n",
        "\n",
        "    data = data.replace('Java', 'Python')\n",
        "\n",
        "    f.seek(0)       # Move to beginning again before writing updated data\n",
        "    f.write(data)   # This will overwrite from the start\n",
        "    f.truncate()    # Remove any leftover content after new data\n",
        "    print(data)\n",
        "\n",
        "    if 'Projects' in data:\n",
        "      print('\\n Projects Found')\n"
      ],
      "metadata": {
        "colab": {
          "base_uri": "https://localhost:8080/"
        },
        "id": "ctq_4fcGgKeS",
        "outputId": "c219106d-47c5-4845-b044-c77c74a3f1c4"
      },
      "execution_count": null,
      "outputs": [
        {
          "output_type": "stream",
          "name": "stdout",
          "text": [
            "Hi every one. \n",
            "I am the Ai, Machine Learning and deep Learning Trainer.\n",
            "I use the Java Language for my Projects.\n",
            "I like programming in Java.hon.hon.hon.hon.\n",
            "Hi every one. \n",
            "I am the Ai, Machine Learning and deep Learning Trainer.\n",
            "I use the Python Language for my Projects.\n",
            "I like programming in Python.hon.hon.hon.hon.\n",
            "\n",
            " Projects Found\n"
          ]
        }
      ]
    },
    {
      "cell_type": "code",
      "source": [
        "f=open('practice.txt','w')\n",
        "f.write('Hi every one. \\nI am the Ai, Machine Learning and deep Learning Trainer.\\nI use the Java Language for my Projects.\\nI like programming in Java.')\n",
        "f.close()\n",
        "\n",
        "f=open('practice.txt','r')\n",
        "data=f.read()\n",
        "print(data)\n",
        "data=data.replace('Java','Python')\n",
        "\n",
        "f=open('practice.txt','w')\n",
        "f.write(data)\n",
        "\n",
        "f=open('practice.txt','r')\n",
        "data=f.read()\n",
        "print(data)\n",
        "\n",
        "if \"Projects\" in data:\n",
        "  print(\"\\nFound\")\n"
      ],
      "metadata": {
        "colab": {
          "base_uri": "https://localhost:8080/"
        },
        "id": "OnNelJ-Si672",
        "outputId": "83b84b64-5c21-4ecc-ab4e-7341d28f7e88"
      },
      "execution_count": null,
      "outputs": [
        {
          "output_type": "stream",
          "name": "stdout",
          "text": [
            "Hi every one. \n",
            "I am the Ai, Machine Learning and deep Learning Trainer.\n",
            "I use the Java Language for my Projects.\n",
            "I like programming in Java.\n",
            "Hi every one. \n",
            "I am the Ai, Machine Learning and deep Learning Trainer.\n",
            "I use the Python Language for my Projects.\n",
            "I like programming in Python.\n",
            "\n",
            "Found\n"
          ]
        }
      ]
    },
    {
      "cell_type": "markdown",
      "source": [
        "## **Session NO. 11**"
      ],
      "metadata": {
        "id": "P3Kv2SFsuP8C"
      }
    },
    {
      "cell_type": "markdown",
      "source": [
        "### **Exception Handling**"
      ],
      "metadata": {
        "id": "M5ydNkeNuo0y"
      }
    },
    {
      "cell_type": "code",
      "source": [
        "try:\n",
        "  numerator=10\n",
        "  denominator=0\n",
        "  result=numerator/denominator\n",
        "  print(result)\n",
        "except:\n",
        "  print(\"Error Error Error\")"
      ],
      "metadata": {
        "colab": {
          "base_uri": "https://localhost:8080/"
        },
        "id": "TVBFpxYjqMXM",
        "outputId": "0cfd0999-1221-416c-f418-ee815af77c2d"
      },
      "execution_count": null,
      "outputs": [
        {
          "output_type": "stream",
          "name": "stdout",
          "text": [
            "Error Error Error\n"
          ]
        }
      ]
    },
    {
      "cell_type": "code",
      "source": [
        "try:\n",
        "  even=[2,4,6,8]\n",
        "  print(even[5])\n",
        "except ZeroDivisionError:\n",
        "  print(\"Zero se divide na karein bhai\")\n",
        "except IndexError:\n",
        "  print(\"Aap To Bahir Hi Nikal Gaye\")"
      ],
      "metadata": {
        "colab": {
          "base_uri": "https://localhost:8080/"
        },
        "id": "r1mGGzE_vEYz",
        "outputId": "101f4f36-2223-45cb-d3e5-1425151df044"
      },
      "execution_count": null,
      "outputs": [
        {
          "output_type": "stream",
          "name": "stdout",
          "text": [
            "Aap To Bahir Hi Nikal Gaye\n"
          ]
        }
      ]
    },
    {
      "cell_type": "code",
      "source": [
        "try:\n",
        "  num=int(input(\"Enter A Number :\"))\n",
        "  assert num%2 == 0\n",
        "except:\n",
        "  print(\"Not an even Number\")\n",
        "else:\n",
        "  reciprocal=1/num\n",
        "  print(reciprocal)\n",
        "\n"
      ],
      "metadata": {
        "colab": {
          "base_uri": "https://localhost:8080/"
        },
        "id": "OjyuXTynvnav",
        "outputId": "876c32c8-5c81-4891-ae5a-b644ad5e66c5"
      },
      "execution_count": null,
      "outputs": [
        {
          "output_type": "stream",
          "name": "stdout",
          "text": [
            "Enter A Number :3\n",
            "Not an even Number\n"
          ]
        }
      ]
    },
    {
      "cell_type": "code",
      "source": [
        "try:\n",
        "    numerator = 10\n",
        "    denominator = 0\n",
        "    result = numerator/denominator\n",
        "    print(result)\n",
        "except:\n",
        "    print(\"Error: Denominator cannot be 0.\")\n",
        "finally:\n",
        "    print(\"This is finally block.\")"
      ],
      "metadata": {
        "colab": {
          "base_uri": "https://localhost:8080/"
        },
        "id": "yhfJekSpwzTb",
        "outputId": "8fb0b6a4-7de4-46f1-aecf-61fb49928bcf"
      },
      "execution_count": null,
      "outputs": [
        {
          "output_type": "stream",
          "name": "stdout",
          "text": [
            "Error: Denominator cannot be 0.\n",
            "This is finally block.\n"
          ]
        }
      ]
    },
    {
      "cell_type": "markdown",
      "source": [
        "## **Session No. 12**"
      ],
      "metadata": {
        "id": "FEcOvUMcjnK5"
      }
    },
    {
      "cell_type": "markdown",
      "source": [
        "### **Classes And Objects**"
      ],
      "metadata": {
        "id": "_rKg86DMfL6A"
      }
    },
    {
      "cell_type": "code",
      "source": [
        "class Datalist:\n",
        "  name = \"Muhammad\"\n",
        "  age =25\n",
        "  height=5.11\n",
        "\n",
        "obj1 = Datalist()\n",
        "print(obj1.name)\n",
        "print(obj1.age)"
      ],
      "metadata": {
        "id": "a177xmadxAOg",
        "colab": {
          "base_uri": "https://localhost:8080/"
        },
        "outputId": "6324bc21-9f9f-4a60-ecd9-8d96ec8920f1"
      },
      "execution_count": null,
      "outputs": [
        {
          "output_type": "stream",
          "name": "stdout",
          "text": [
            "Muhammad\n",
            "25\n"
          ]
        }
      ]
    },
    {
      "cell_type": "code",
      "source": [
        "class Datalist:\n",
        "  name='Kaleem'\n",
        "  occupation = 'Trainer'\n",
        "  networth= 100\n",
        "\n",
        "a=Datalist()\n",
        "a.name = \"Haleem\"\n",
        "a.occupation = \"AI Trainer\"\n",
        "print(a.name,a.occupation)"
      ],
      "metadata": {
        "colab": {
          "base_uri": "https://localhost:8080/"
        },
        "id": "d49tgyv7g7o3",
        "outputId": "a8def904-bb7d-437d-d3ca-6217270a7764"
      },
      "execution_count": null,
      "outputs": [
        {
          "output_type": "stream",
          "name": "stdout",
          "text": [
            "Haleem AI Trainer\n"
          ]
        }
      ]
    },
    {
      "cell_type": "markdown",
      "source": [
        "### **Task NO . 11**"
      ],
      "metadata": {
        "id": "3hESvgIJm7-H"
      }
    },
    {
      "cell_type": "code",
      "source": [
        "class Datalist:\n",
        "  name = \"Fawad\"\n",
        "  rollno = 4\n",
        "  height = 5.11\n",
        "  married = False\n",
        "\n",
        "man=Datalist()\n",
        "print(f\"Name : {man.name}   {type(man.name)}\")\n",
        "print(f\"RollNo : {man.rollno}   {type(man.rollno)}\")\n",
        "print(f\"Height : {man.height}   {type(man.height)}\")\n",
        "print(f\"Married : {man.married}   {type(man.married)}\")\n",
        "\n"
      ],
      "metadata": {
        "colab": {
          "base_uri": "https://localhost:8080/"
        },
        "id": "UTQe_j9OiNH7",
        "outputId": "28b58afa-27ff-4aa8-935e-3243a7cd0f3c"
      },
      "execution_count": null,
      "outputs": [
        {
          "output_type": "stream",
          "name": "stdout",
          "text": [
            "Name : Fawad   <class 'str'>\n",
            "RollNo : 4   <class 'int'>\n",
            "Height : 5.11   <class 'float'>\n",
            "Married : False   <class 'bool'>\n"
          ]
        }
      ]
    },
    {
      "cell_type": "code",
      "source": [
        "class Datalist:\n",
        "  name = \"Fawad\"\n",
        "  occupation = \"Trainer\"\n",
        "  networth = 100\n",
        "\n",
        "  def info(self):\n",
        "    print(f\"{self.name} is a {self.occupation}\")\n",
        "\n",
        "a= Datalist()\n",
        "a.info()"
      ],
      "metadata": {
        "colab": {
          "base_uri": "https://localhost:8080/"
        },
        "id": "bvShSt8imlHj",
        "outputId": "191b4914-a9ca-43ed-f125-4b9fa37376fd"
      },
      "execution_count": null,
      "outputs": [
        {
          "output_type": "stream",
          "name": "stdout",
          "text": [
            "Fawad is a Trainer\n"
          ]
        }
      ]
    },
    {
      "cell_type": "markdown",
      "source": [
        "### **Constructor**"
      ],
      "metadata": {
        "id": "WnIWUnNWo0KG"
      }
    },
    {
      "cell_type": "code",
      "source": [
        "class Car:\n",
        "  def __init__(self,make,model,year):\n",
        "    self.make=make\n",
        "    self.model=model\n",
        "    self.year=year\n",
        "    self.odometer = 0\n",
        "\n",
        "  def Car_info(self):\n",
        "    car_info = f\"{self.year} {self.make} {self.model}\"\n",
        "    return car_info\n",
        "\n",
        "  def read_ODO(self):\n",
        "    return f\"This Car Has Run {self.odometer} miles\"\n",
        "\n",
        "  def update_odometer(self,mileage):\n",
        "    if mileage >= self.odometer:\n",
        "      self.odometer = mileage\n",
        "    else:\n",
        "      print(\"You Can't Roll Back An Odometer !\")\n",
        "\n",
        "  def increment_odo(self,miles):\n",
        "    self.odometer += miles\n",
        "\n",
        "\n",
        "car1 = Car('Toyota','Corolla',2019)\n",
        "car2 = Car('Tesla','Model S',2020)\n",
        "\n",
        "print(car1.Car_info())\n",
        "print(car2.Car_info())\n",
        "\n",
        "print(car1.read_ODO())\n",
        "print(car2.read_ODO())\n",
        "\n",
        "car1.increment_odo(50000)\n",
        "print(car1.read_ODO())\n",
        "\n",
        "\n",
        "car2.increment_odo(20000)\n",
        "print(car2.read_ODO())"
      ],
      "metadata": {
        "colab": {
          "base_uri": "https://localhost:8080/"
        },
        "id": "cDp2tv2OnphL",
        "outputId": "2896144a-7b17-4c62-a0e9-5e8c18b6d20e"
      },
      "execution_count": null,
      "outputs": [
        {
          "output_type": "stream",
          "name": "stdout",
          "text": [
            "2019 Toyota Corolla\n",
            "2020 Tesla Model S\n",
            "This Car Has Run 0 miles\n",
            "This Car Has Run 0 miles\n",
            "This Car Has Run 50000 miles\n",
            "This Car Has Run 20000 miles\n"
          ]
        }
      ]
    },
    {
      "cell_type": "markdown",
      "source": [
        "### **Task NO. 12**"
      ],
      "metadata": {
        "id": "aaCRDGKv3JDQ"
      }
    },
    {
      "cell_type": "code",
      "source": [
        "class Calculator:\n",
        "  def __init__(self,*num):\n",
        "    self.num=num\n",
        "\n",
        "  def addition(self,*num):\n",
        "    print(f\"Sum = {sum(num)}\")\n",
        "\n",
        "  def subtraction(self,*num):\n",
        "    result = num[0]\n",
        "    for i in num[1:]:\n",
        "      result -= i\n",
        "    print(f\"Sub = {result}\")\n",
        "\n",
        "  def multiplication(self,*num):\n",
        "    result = num[0]\n",
        "    for i in num[1:]:\n",
        "      result *= i\n",
        "    print(f\"Product = {result}\")\n",
        "\n",
        "  def division(self,*num):\n",
        "    result = num[0]\n",
        "    for i in num[1:]:\n",
        "      result /= i\n",
        "    print(f\"Division = {result}\")\n",
        "\n",
        "a=Calculator()\n",
        "a.addition(45,35)\n",
        "a.subtraction(45,35)\n",
        "a.multiplication(45,35)\n",
        "a.division(45,35)"
      ],
      "metadata": {
        "colab": {
          "base_uri": "https://localhost:8080/"
        },
        "id": "2ZOw3Zz311H0",
        "outputId": "5fd85dca-6351-456f-ee44-526577a21686"
      },
      "execution_count": null,
      "outputs": [
        {
          "output_type": "stream",
          "name": "stdout",
          "text": [
            "Sum = 80\n",
            "Sub = 10\n",
            "Product = 1575\n",
            "Division = 1.2857142857142858\n"
          ]
        }
      ]
    },
    {
      "cell_type": "markdown",
      "source": [
        "### **Abstraction**"
      ],
      "metadata": {
        "id": "qJcq-62imVlN"
      }
    },
    {
      "cell_type": "code",
      "source": [
        "class Car():\n",
        "  def __init__(self):\n",
        "    self.acc = False\n",
        "    self.Break = False\n",
        "    self.clutch = False\n",
        "  def start (self):\n",
        "    self.clutch = True\n",
        "    self.acc = True\n",
        "    print(\"Car Started .....\")\n",
        "\n",
        "car1=Car()\n",
        "car1.start()"
      ],
      "metadata": {
        "id": "E4EX2VOq6lUr",
        "colab": {
          "base_uri": "https://localhost:8080/"
        },
        "outputId": "a9d0394f-ecc8-47c8-ffff-582e251abcf4"
      },
      "execution_count": 12,
      "outputs": [
        {
          "output_type": "stream",
          "name": "stdout",
          "text": [
            "Car Started .....\n"
          ]
        }
      ]
    },
    {
      "cell_type": "code",
      "source": [
        "class Car:\n",
        "    def start(self):\n",
        "        self.__check_fuel()\n",
        "        self.__check_engine()\n",
        "        print(\"Car started!\")\n",
        "\n",
        "    def __check_fuel(self):\n",
        "        print(\"Checking fuel level...\")\n",
        "\n",
        "    def __check_engine(self):\n",
        "        print(\"Running engine diagnostics...\")\n",
        "\n",
        "my_car = Car()\n",
        "my_car.start()\n"
      ],
      "metadata": {
        "colab": {
          "base_uri": "https://localhost:8080/"
        },
        "id": "1_cDJ_pvnaCI",
        "outputId": "655ca88b-eabb-41f1-a2d3-eace82589217"
      },
      "execution_count": 13,
      "outputs": [
        {
          "output_type": "stream",
          "name": "stdout",
          "text": [
            "Checking fuel level...\n",
            "Running engine diagnostics...\n",
            "Car started!\n"
          ]
        }
      ]
    },
    {
      "cell_type": "code",
      "source": [
        "class Account:\n",
        "    def __init__(self):\n",
        "        self.__balance = 0\n",
        "        self.__account = 123456789\n",
        "\n",
        "    def debit(self, amount):\n",
        "        self.__balance += amount\n",
        "        print(\"----------------------------------------\")\n",
        "        print(f\"{amount} Deposited\")\n",
        "        print(\"----------------------------------------\")\n",
        "        print(f\"Available Balance: {self.__get_balance()}\")\n",
        "        print(\"----------------------------------------\")\n",
        "\n",
        "    def credit(self, amount):\n",
        "        if amount <= self.__balance:\n",
        "          self.__balance -= amount\n",
        "          print(f\"{amount} Withdrawn\")\n",
        "        else:\n",
        "            print(\"Insufficient funds\")\n",
        "\n",
        "    def info(self):\n",
        "        print(\"----------------------------------------\")\n",
        "        print(f\"Balance: {self.__balance}\")\n",
        "        print(f\"Account No: {self.__account}\")\n",
        "        print(\"----------------------------------------\")\n",
        "\n",
        "    def __get_balance(self):  # Private method\n",
        "        return self.__balance\n",
        "\n",
        "# Usage\n",
        "acc = Account()\n",
        "acc.debit(100000)\n",
        "acc.credit(50000)\n",
        "acc.info()\n"
      ],
      "metadata": {
        "colab": {
          "base_uri": "https://localhost:8080/"
        },
        "id": "hqi8NfwVpbXC",
        "outputId": "32cd219d-1313-4d84-d79b-6780114803cb"
      },
      "execution_count": 29,
      "outputs": [
        {
          "output_type": "stream",
          "name": "stdout",
          "text": [
            "----------------------------------------\n",
            "100000 Deposited\n",
            "----------------------------------------\n",
            "Available Balance: 100000\n",
            "----------------------------------------\n",
            "50000 Withdrawn\n",
            "----------------------------------------\n",
            "Balance: 50000\n",
            "Account No: 123456789\n",
            "----------------------------------------\n"
          ]
        }
      ]
    },
    {
      "cell_type": "markdown",
      "source": [
        "### **Task NO. 13**"
      ],
      "metadata": {
        "id": "0MnEnvE15BDK"
      }
    },
    {
      "cell_type": "code",
      "source": [
        "class School:\n",
        "  def __init__(self):\n",
        "    self.__Name = \"\"\n",
        "    self.__RollNo = 0\n",
        "    self.__Age = 0\n",
        "\n",
        "  def admit(self,name,age):\n",
        "    self.__Name = name\n",
        "    self.__Age = age\n",
        "    self.__RollNo+=1\n",
        "    print(f\"{self.__Name} Admitted\")\n",
        "\n",
        "  def conduct_exam(self):\n",
        "    print(\"paper being conducted\")\n",
        "\n",
        "\n",
        "std1=School()\n",
        "std1.admit(\"Dum Dum\",20)\n",
        "std1.conduct_exam()"
      ],
      "metadata": {
        "colab": {
          "base_uri": "https://localhost:8080/"
        },
        "id": "bNPprZo61S1B",
        "outputId": "910f42b6-8406-42b3-ace3-49249ed30844"
      },
      "execution_count": 30,
      "outputs": [
        {
          "output_type": "stream",
          "name": "stdout",
          "text": [
            "Dum Dum Admitted\n",
            "paper being conducted\n"
          ]
        }
      ]
    },
    {
      "cell_type": "markdown",
      "source": [
        "### **Inheritance**"
      ],
      "metadata": {
        "id": "NS1aGH0s7HqN"
      }
    },
    {
      "cell_type": "code",
      "source": [
        "class Super_Class:\n",
        "  A=0\n",
        "class Base_Class(Super_Class):\n",
        "  B=0\n",
        "  def info(self,a,b):\n",
        "    A=a\n",
        "    B=b\n",
        "    print(f\"{A}  {B}\" )\n",
        "\n",
        "a=Base_Class()\n",
        "a.info(5,7)"
      ],
      "metadata": {
        "colab": {
          "base_uri": "https://localhost:8080/"
        },
        "id": "9boRLnk866Xf",
        "outputId": "328b659d-f815-48ab-a482-7616427e86d9"
      },
      "execution_count": 1,
      "outputs": [
        {
          "output_type": "stream",
          "name": "stdout",
          "text": [
            "5  7\n"
          ]
        }
      ]
    },
    {
      "cell_type": "code",
      "source": [
        "class Employee:\n",
        "    def __init__(self, name, age, degree):\n",
        "        self.Name = name\n",
        "        self.Age = age\n",
        "        self.Degree = degree\n",
        "\n",
        "    def info(self):\n",
        "        print(f\"Name : {self.Name}\")\n",
        "        print(f\"Age : {self.Age}\")\n",
        "        print(f\"Degree : {self.Degree}\")\n",
        "\n",
        "class Programmer(Employee):\n",
        "    def __init__(self, name, age, degree, lang):\n",
        "        super().__init__(name, age, degree)  # Call parent constructor\n",
        "        self.Language = lang\n",
        "\n",
        "    def info(self):\n",
        "        super().info()  # Call Employee's info method\n",
        "        print(f\"Language : {self.Language}\")\n",
        "\n",
        "# Usage\n",
        "emp = Programmer(\"Fawad\", 21, \"BSCS\", \"Python\")\n",
        "emp.info()\n"
      ],
      "metadata": {
        "colab": {
          "base_uri": "https://localhost:8080/"
        },
        "id": "_n-nBM6182QH",
        "outputId": "5880a4e5-5e4b-4000-fa4a-c3e318be1f45"
      },
      "execution_count": 6,
      "outputs": [
        {
          "output_type": "stream",
          "name": "stdout",
          "text": [
            "Name : Fawad\n",
            "Age : 21\n",
            "Degree : BSCS\n",
            "Language : Python\n"
          ]
        }
      ]
    },
    {
      "cell_type": "markdown",
      "source": [
        "### **Task NO. 14**"
      ],
      "metadata": {
        "id": "ceKOer_9BjJt"
      }
    },
    {
      "cell_type": "code",
      "source": [
        "class Shapes:\n",
        "    def __init__(self):\n",
        "        self.pi = 3.14\n",
        "\n",
        "class Rectangle(Shapes):\n",
        "    def __init__(self, l, w):\n",
        "        super().__init__()            # Call parent constructor (optional here)\n",
        "        self.__length = l\n",
        "        self.__width = w\n",
        "\n",
        "    def area(self):\n",
        "        print(f\"Area Of Rectangle Is : {self.__length * self.__width}\")\n",
        "\n",
        "class Circle(Shapes):\n",
        "    def __init__(self, r):\n",
        "        super().__init__()            # Call parent constructor to access pi\n",
        "        self.__radius = r\n",
        "\n",
        "    def area(self):\n",
        "        print(f\"Area Of Circle Is : {self.pi * self.__radius**2}\")\n",
        "\n",
        "# Create objects and call methods\n",
        "rec = Rectangle(5, 7)\n",
        "rec.area()\n",
        "\n",
        "circle = Circle(5)\n",
        "circle.area()\n"
      ],
      "metadata": {
        "colab": {
          "base_uri": "https://localhost:8080/"
        },
        "id": "aFf8DOVU-39m",
        "outputId": "2eeadcb7-40b5-4a08-afc7-a01dfda1048d"
      },
      "execution_count": 18,
      "outputs": [
        {
          "output_type": "stream",
          "name": "stdout",
          "text": [
            "Area Of Rectangle Is : 35\n",
            "Area Of Circle Is : 78.5\n"
          ]
        }
      ]
    },
    {
      "cell_type": "markdown",
      "source": [
        "### **Polymorphism**"
      ],
      "metadata": {
        "id": "fBOtcvLZGzjv"
      }
    },
    {
      "cell_type": "code",
      "source": [
        "class Car:\n",
        "  def __init__(self, brand, model):\n",
        "    self.brand = brand\n",
        "    self.model = model\n",
        "\n",
        "  def move(self):\n",
        "    print(\"Drive!\")\n",
        "\n",
        "class Boat:\n",
        "  def __init__(self, brand, model):\n",
        "    self.brand = brand\n",
        "    self.model = model\n",
        "\n",
        "  def move(self):\n",
        "    print(\"Sail!\")\n",
        "\n",
        "car1 = Car(\"Ford\", \"Mustang\")       #Create a Car class\n",
        "boat1 = Boat(\"Ibiza\", \"Touring 20\") #Create a Boat class\n",
        "\n",
        "for x in (car1, boat1):\n",
        "  x.move()"
      ],
      "metadata": {
        "colab": {
          "base_uri": "https://localhost:8080/"
        },
        "id": "XzopN-W4ERWW",
        "outputId": "2d3fa0ec-df9a-4b75-90e8-59dee7abb37b"
      },
      "execution_count": 19,
      "outputs": [
        {
          "output_type": "stream",
          "name": "stdout",
          "text": [
            "Drive!\n",
            "Sail!\n"
          ]
        }
      ]
    },
    {
      "cell_type": "code",
      "source": [
        "class Animals:\n",
        "  None\n",
        "class Cat(Animals):\n",
        "  def __init__(self):\n",
        "    print(\"Cat Spawned\")\n",
        "  def sound(self):\n",
        "    print(\"Meow Meow !\")\n",
        "\n",
        "class Dog(Animals):\n",
        "  def __init__(self):\n",
        "    print(\"Dog Spawned\")\n",
        "  def sound(self):\n",
        "    print(\"Bow Bow !\")\n",
        "\n",
        "c=Cat()\n",
        "d=Dog()\n",
        "for i in (c,d):\n",
        "  i.sound()"
      ],
      "metadata": {
        "colab": {
          "base_uri": "https://localhost:8080/"
        },
        "id": "dQM9ggdqG3p6",
        "outputId": "6b9a9391-6675-40fa-a9c5-ff3f93c6d5e2"
      },
      "execution_count": 23,
      "outputs": [
        {
          "output_type": "stream",
          "name": "stdout",
          "text": [
            "Cat Spawned\n",
            "Dog Spawned\n",
            "Meow Meow !\n",
            "Bow Bow !\n"
          ]
        }
      ]
    },
    {
      "cell_type": "code",
      "source": [],
      "metadata": {
        "id": "qvS32oXUJ6LL"
      },
      "execution_count": null,
      "outputs": []
    }
  ],
  "metadata": {
    "colab": {
      "collapsed_sections": [
        "vB20NJj-oYOL",
        "ifrFtO3u2ezK",
        "_m55hyKy-PA6",
        "JBgVWsT4RZpL",
        "IT-iHjBskoz4",
        "6UWmM_cL7u78"
      ],
      "provenance": []
    },
    "kernelspec": {
      "display_name": "Python 3",
      "name": "python3"
    },
    "language_info": {
      "name": "python"
    }
  },
  "nbformat": 4,
  "nbformat_minor": 0
}